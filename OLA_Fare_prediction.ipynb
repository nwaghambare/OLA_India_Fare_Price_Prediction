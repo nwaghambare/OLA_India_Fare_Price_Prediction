{
 "cells": [
  {
   "cell_type": "code",
   "execution_count": 1,
   "metadata": {},
   "outputs": [],
   "source": [
    "# import relevant libraries\n",
    "import pandas as pd\n",
    "import numpy as np\n",
    "import matplotlib.pyplot as plt\n",
    "from tqdm.notebook import tqdm\n",
    "import matplotlib as mpl\n",
    "\n",
    "mpl.rcParams['figure.figsize'] = (12,8)"
   ]
  },
  {
   "cell_type": "code",
   "execution_count": 2,
   "metadata": {},
   "outputs": [
    {
     "name": "stderr",
     "output_type": "stream",
     "text": [
      "C:\\Users\\admin\\Anaconda3\\lib\\site-packages\\IPython\\core\\interactiveshell.py:3146: DtypeWarning: Columns (1,4,10) have mixed types.Specify dtype option on import or set low_memory=False.\n",
      "  interactivity=interactivity, compiler=compiler, result=result)\n"
     ]
    },
    {
     "data": {
      "text/html": [
       "<div>\n",
       "<style scoped>\n",
       "    .dataframe tbody tr th:only-of-type {\n",
       "        vertical-align: middle;\n",
       "    }\n",
       "\n",
       "    .dataframe tbody tr th {\n",
       "        vertical-align: top;\n",
       "    }\n",
       "\n",
       "    .dataframe thead th {\n",
       "        text-align: right;\n",
       "    }\n",
       "</style>\n",
       "<table border=\"1\" class=\"dataframe\">\n",
       "  <thead>\n",
       "    <tr style=\"text-align: right;\">\n",
       "      <th></th>\n",
       "      <th>ID</th>\n",
       "      <th>vendor+AF8-id</th>\n",
       "      <th>pickup+AF8-loc</th>\n",
       "      <th>drop+AF8-loc</th>\n",
       "      <th>driver+AF8-tip</th>\n",
       "      <th>mta+AF8-tax</th>\n",
       "      <th>distance</th>\n",
       "      <th>pickup+AF8-time</th>\n",
       "      <th>drop+AF8-time</th>\n",
       "      <th>num+AF8-passengers</th>\n",
       "      <th>toll+AF8-amount</th>\n",
       "      <th>payment+AF8-method</th>\n",
       "      <th>rate+AF8-code</th>\n",
       "      <th>stored+AF8-flag</th>\n",
       "      <th>extra+AF8-charges</th>\n",
       "      <th>improvement+AF8-charge</th>\n",
       "      <th>total+AF8-amount</th>\n",
       "    </tr>\n",
       "  </thead>\n",
       "  <tbody>\n",
       "    <tr>\n",
       "      <th>0</th>\n",
       "      <td>0</td>\n",
       "      <td>1</td>\n",
       "      <td>170.0</td>\n",
       "      <td>233.0</td>\n",
       "      <td>1.83</td>\n",
       "      <td>0.5</td>\n",
       "      <td>0.70</td>\n",
       "      <td>04/04/2017 05:59:43 PM</td>\n",
       "      <td>04/04/2017 06:05:04 PM</td>\n",
       "      <td>1.0</td>\n",
       "      <td>0</td>\n",
       "      <td>1.0</td>\n",
       "      <td>1.0</td>\n",
       "      <td>N</td>\n",
       "      <td>1</td>\n",
       "      <td>0.3</td>\n",
       "      <td>9.13</td>\n",
       "    </tr>\n",
       "    <tr>\n",
       "      <th>1</th>\n",
       "      <td>1</td>\n",
       "      <td>2</td>\n",
       "      <td>151.0</td>\n",
       "      <td>243.0</td>\n",
       "      <td>3.56</td>\n",
       "      <td>0.5</td>\n",
       "      <td>4.64</td>\n",
       "      <td>04/03/2017 07:03:34 PM</td>\n",
       "      <td>04/03/2017 07:20:04 PM</td>\n",
       "      <td>1.0</td>\n",
       "      <td>0</td>\n",
       "      <td>1.0</td>\n",
       "      <td>1.0</td>\n",
       "      <td>N</td>\n",
       "      <td>1</td>\n",
       "      <td>0.3</td>\n",
       "      <td>21.36</td>\n",
       "    </tr>\n",
       "    <tr>\n",
       "      <th>2</th>\n",
       "      <td>2</td>\n",
       "      <td>2</td>\n",
       "      <td>68.0</td>\n",
       "      <td>90.0</td>\n",
       "      <td>1.5</td>\n",
       "      <td>0.5</td>\n",
       "      <td>1.29</td>\n",
       "      <td>04/03/2017 03:06:13 PM</td>\n",
       "      <td>04/03/2017 03:12:30 PM</td>\n",
       "      <td>2.0</td>\n",
       "      <td>0</td>\n",
       "      <td>1.0</td>\n",
       "      <td>1.0</td>\n",
       "      <td>N</td>\n",
       "      <td>0</td>\n",
       "      <td>0.3</td>\n",
       "      <td>8.8</td>\n",
       "    </tr>\n",
       "    <tr>\n",
       "      <th>3</th>\n",
       "      <td>3</td>\n",
       "      <td>2</td>\n",
       "      <td>142.0</td>\n",
       "      <td>234.0</td>\n",
       "      <td>1.5</td>\n",
       "      <td>0.5</td>\n",
       "      <td>2.74</td>\n",
       "      <td>04/04/2017 08:10:52 AM</td>\n",
       "      <td>04/04/2017 08:27:00 AM</td>\n",
       "      <td>1.0</td>\n",
       "      <td>0</td>\n",
       "      <td>1.0</td>\n",
       "      <td>1.0</td>\n",
       "      <td>N</td>\n",
       "      <td>0</td>\n",
       "      <td>0.3</td>\n",
       "      <td>14.8</td>\n",
       "    </tr>\n",
       "    <tr>\n",
       "      <th>4</th>\n",
       "      <td>4</td>\n",
       "      <td>2</td>\n",
       "      <td>238.0</td>\n",
       "      <td>238.0</td>\n",
       "      <td>0</td>\n",
       "      <td>0.5</td>\n",
       "      <td>0.45</td>\n",
       "      <td>04/05/2017 02:02:59 PM</td>\n",
       "      <td>04/05/2017 02:05:41 PM</td>\n",
       "      <td>6.0</td>\n",
       "      <td>0</td>\n",
       "      <td>2.0</td>\n",
       "      <td>1.0</td>\n",
       "      <td>N</td>\n",
       "      <td>0</td>\n",
       "      <td>0.3</td>\n",
       "      <td>4.8</td>\n",
       "    </tr>\n",
       "  </tbody>\n",
       "</table>\n",
       "</div>"
      ],
      "text/plain": [
       "   ID vendor+AF8-id  pickup+AF8-loc  drop+AF8-loc driver+AF8-tip mta+AF8-tax  \\\n",
       "0   0             1           170.0         233.0           1.83         0.5   \n",
       "1   1             2           151.0         243.0           3.56         0.5   \n",
       "2   2             2            68.0          90.0            1.5         0.5   \n",
       "3   3             2           142.0         234.0            1.5         0.5   \n",
       "4   4             2           238.0         238.0              0         0.5   \n",
       "\n",
       "   distance         pickup+AF8-time           drop+AF8-time  \\\n",
       "0      0.70  04/04/2017 05:59:43 PM  04/04/2017 06:05:04 PM   \n",
       "1      4.64  04/03/2017 07:03:34 PM  04/03/2017 07:20:04 PM   \n",
       "2      1.29  04/03/2017 03:06:13 PM  04/03/2017 03:12:30 PM   \n",
       "3      2.74  04/04/2017 08:10:52 AM  04/04/2017 08:27:00 AM   \n",
       "4      0.45  04/05/2017 02:02:59 PM  04/05/2017 02:05:41 PM   \n",
       "\n",
       "   num+AF8-passengers toll+AF8-amount  payment+AF8-method  rate+AF8-code  \\\n",
       "0                 1.0               0                 1.0            1.0   \n",
       "1                 1.0               0                 1.0            1.0   \n",
       "2                 2.0               0                 1.0            1.0   \n",
       "3                 1.0               0                 1.0            1.0   \n",
       "4                 6.0               0                 2.0            1.0   \n",
       "\n",
       "  stored+AF8-flag extra+AF8-charges improvement+AF8-charge total+AF8-amount  \n",
       "0               N                 1                    0.3             9.13  \n",
       "1               N                 1                    0.3            21.36  \n",
       "2               N                 0                    0.3              8.8  \n",
       "3               N                 0                    0.3             14.8  \n",
       "4               N                 0                    0.3              4.8  "
      ]
     },
     "execution_count": 2,
     "metadata": {},
     "output_type": "execute_result"
    }
   ],
   "source": [
    "# Read the train data.\n",
    "data = pd.read_csv('train.csv')\n",
    "data.head()"
   ]
  },
  {
   "cell_type": "markdown",
   "metadata": {},
   "source": [
    "### Column Description\n",
    "1. ID - Unique Identifier\n",
    "2. vendor_id - Taxi data providing vendor; 1 = TaxiTech Inc. 2 = DataCollectors Inc.\n",
    "3. pickup_loc - Location ID from where passenger was picked up\n",
    "4. drop_loc - Location ID where passenger was dropped\n",
    "5. driver_tip - Tip given to driver\n",
    "6. mta_tax - Automatically triggered tax amount\n",
    "7. distance - Distance covered in the trip\n",
    "8. pickup_time - Date/Time when meter started\n",
    "9. drop_time - Date/Time when meter stopped\n",
    "10. num_passengers - Cab passenger count\n",
    "11. toll_Amt - Toll paid in the booths\n",
    "13. 12. payment_Method - Method of payment symbolised by a numeric code (1 = Credit Card, 2 = Cash, 3 = Free ride, 4 = Disputed, 5 = Unknown, 6 = Void trip)\n",
    "14. rate_code - Rate code for the trip (1 = Standard, 2 = Airport, 3 = Connaught Place, 4 = Noida, 5 = Negotiated Fare, 6 = Pooled ride)\n",
    "15. stored_flag - Flag which signifies whether trip data was immediately sent to Chh-OLA’s database or not (Y=Yes, N=No, because of connection error)\n",
    "16. extra_charges - Miscellaneous charges\n",
    "17. improvement_charge - Charge levied for improvement in infrastructure\n",
    "18. total_amount - Output label; Final amount to be paid including meter fare and all extra charges"
   ]
  },
  {
   "cell_type": "code",
   "execution_count": 3,
   "metadata": {},
   "outputs": [
    {
     "data": {
      "text/html": [
       "<div>\n",
       "<style scoped>\n",
       "    .dataframe tbody tr th:only-of-type {\n",
       "        vertical-align: middle;\n",
       "    }\n",
       "\n",
       "    .dataframe tbody tr th {\n",
       "        vertical-align: top;\n",
       "    }\n",
       "\n",
       "    .dataframe thead th {\n",
       "        text-align: right;\n",
       "    }\n",
       "</style>\n",
       "<table border=\"1\" class=\"dataframe\">\n",
       "  <thead>\n",
       "    <tr style=\"text-align: right;\">\n",
       "      <th></th>\n",
       "      <th>ID</th>\n",
       "      <th>vendor id</th>\n",
       "      <th>pickup loc</th>\n",
       "      <th>drop loc</th>\n",
       "      <th>driver tip</th>\n",
       "      <th>mta tax</th>\n",
       "      <th>distance</th>\n",
       "      <th>pickup time</th>\n",
       "      <th>drop time</th>\n",
       "      <th>num passengers</th>\n",
       "      <th>toll amount</th>\n",
       "      <th>payment method</th>\n",
       "      <th>rate code</th>\n",
       "      <th>stored flag</th>\n",
       "      <th>extra charges</th>\n",
       "      <th>improvement charge</th>\n",
       "      <th>total amount</th>\n",
       "    </tr>\n",
       "  </thead>\n",
       "  <tbody>\n",
       "    <tr>\n",
       "      <th>0</th>\n",
       "      <td>0</td>\n",
       "      <td>1</td>\n",
       "      <td>170.0</td>\n",
       "      <td>233.0</td>\n",
       "      <td>1.83</td>\n",
       "      <td>0.5</td>\n",
       "      <td>0.70</td>\n",
       "      <td>04/04/2017 05:59:43 PM</td>\n",
       "      <td>04/04/2017 06:05:04 PM</td>\n",
       "      <td>1.0</td>\n",
       "      <td>0</td>\n",
       "      <td>1.0</td>\n",
       "      <td>1.0</td>\n",
       "      <td>N</td>\n",
       "      <td>1</td>\n",
       "      <td>0.3</td>\n",
       "      <td>9.13</td>\n",
       "    </tr>\n",
       "    <tr>\n",
       "      <th>1</th>\n",
       "      <td>1</td>\n",
       "      <td>2</td>\n",
       "      <td>151.0</td>\n",
       "      <td>243.0</td>\n",
       "      <td>3.56</td>\n",
       "      <td>0.5</td>\n",
       "      <td>4.64</td>\n",
       "      <td>04/03/2017 07:03:34 PM</td>\n",
       "      <td>04/03/2017 07:20:04 PM</td>\n",
       "      <td>1.0</td>\n",
       "      <td>0</td>\n",
       "      <td>1.0</td>\n",
       "      <td>1.0</td>\n",
       "      <td>N</td>\n",
       "      <td>1</td>\n",
       "      <td>0.3</td>\n",
       "      <td>21.36</td>\n",
       "    </tr>\n",
       "    <tr>\n",
       "      <th>2</th>\n",
       "      <td>2</td>\n",
       "      <td>2</td>\n",
       "      <td>68.0</td>\n",
       "      <td>90.0</td>\n",
       "      <td>1.5</td>\n",
       "      <td>0.5</td>\n",
       "      <td>1.29</td>\n",
       "      <td>04/03/2017 03:06:13 PM</td>\n",
       "      <td>04/03/2017 03:12:30 PM</td>\n",
       "      <td>2.0</td>\n",
       "      <td>0</td>\n",
       "      <td>1.0</td>\n",
       "      <td>1.0</td>\n",
       "      <td>N</td>\n",
       "      <td>0</td>\n",
       "      <td>0.3</td>\n",
       "      <td>8.8</td>\n",
       "    </tr>\n",
       "    <tr>\n",
       "      <th>3</th>\n",
       "      <td>3</td>\n",
       "      <td>2</td>\n",
       "      <td>142.0</td>\n",
       "      <td>234.0</td>\n",
       "      <td>1.5</td>\n",
       "      <td>0.5</td>\n",
       "      <td>2.74</td>\n",
       "      <td>04/04/2017 08:10:52 AM</td>\n",
       "      <td>04/04/2017 08:27:00 AM</td>\n",
       "      <td>1.0</td>\n",
       "      <td>0</td>\n",
       "      <td>1.0</td>\n",
       "      <td>1.0</td>\n",
       "      <td>N</td>\n",
       "      <td>0</td>\n",
       "      <td>0.3</td>\n",
       "      <td>14.8</td>\n",
       "    </tr>\n",
       "    <tr>\n",
       "      <th>4</th>\n",
       "      <td>4</td>\n",
       "      <td>2</td>\n",
       "      <td>238.0</td>\n",
       "      <td>238.0</td>\n",
       "      <td>0</td>\n",
       "      <td>0.5</td>\n",
       "      <td>0.45</td>\n",
       "      <td>04/05/2017 02:02:59 PM</td>\n",
       "      <td>04/05/2017 02:05:41 PM</td>\n",
       "      <td>6.0</td>\n",
       "      <td>0</td>\n",
       "      <td>2.0</td>\n",
       "      <td>1.0</td>\n",
       "      <td>N</td>\n",
       "      <td>0</td>\n",
       "      <td>0.3</td>\n",
       "      <td>4.8</td>\n",
       "    </tr>\n",
       "  </tbody>\n",
       "</table>\n",
       "</div>"
      ],
      "text/plain": [
       "   ID vendor id  pickup loc  drop loc driver tip mta tax  distance  \\\n",
       "0   0         1       170.0     233.0       1.83     0.5      0.70   \n",
       "1   1         2       151.0     243.0       3.56     0.5      4.64   \n",
       "2   2         2        68.0      90.0        1.5     0.5      1.29   \n",
       "3   3         2       142.0     234.0        1.5     0.5      2.74   \n",
       "4   4         2       238.0     238.0          0     0.5      0.45   \n",
       "\n",
       "              pickup time               drop time  num passengers toll amount  \\\n",
       "0  04/04/2017 05:59:43 PM  04/04/2017 06:05:04 PM             1.0           0   \n",
       "1  04/03/2017 07:03:34 PM  04/03/2017 07:20:04 PM             1.0           0   \n",
       "2  04/03/2017 03:06:13 PM  04/03/2017 03:12:30 PM             2.0           0   \n",
       "3  04/04/2017 08:10:52 AM  04/04/2017 08:27:00 AM             1.0           0   \n",
       "4  04/05/2017 02:02:59 PM  04/05/2017 02:05:41 PM             6.0           0   \n",
       "\n",
       "   payment method  rate code stored flag extra charges improvement charge  \\\n",
       "0             1.0        1.0           N             1                0.3   \n",
       "1             1.0        1.0           N             1                0.3   \n",
       "2             1.0        1.0           N             0                0.3   \n",
       "3             1.0        1.0           N             0                0.3   \n",
       "4             2.0        1.0           N             0                0.3   \n",
       "\n",
       "  total amount  \n",
       "0         9.13  \n",
       "1        21.36  \n",
       "2          8.8  \n",
       "3         14.8  \n",
       "4          4.8  "
      ]
     },
     "execution_count": 3,
     "metadata": {},
     "output_type": "execute_result"
    }
   ],
   "source": [
    "# Found that there is some text entry present in data, remove it.\n",
    "cols = data.columns\n",
    "new_cols = []\n",
    "for col in cols:\n",
    "    new_cols.append(col.replace('+AF8-',' '))\n",
    "\n",
    "data.columns = new_cols\n",
    "data.head()"
   ]
  },
  {
   "cell_type": "code",
   "execution_count": 4,
   "metadata": {},
   "outputs": [
    {
     "name": "stdout",
     "output_type": "stream",
     "text": [
      "<class 'pandas.core.frame.DataFrame'>\n",
      "RangeIndex: 1048575 entries, 0 to 1048574\n",
      "Data columns (total 17 columns):\n",
      " #   Column              Non-Null Count    Dtype  \n",
      "---  ------              --------------    -----  \n",
      " 0   ID                  1048575 non-null  int64  \n",
      " 1   vendor id           1048575 non-null  object \n",
      " 2   pickup loc          1048574 non-null  float64\n",
      " 3   drop loc            1048574 non-null  float64\n",
      " 4   driver tip          1048573 non-null  object \n",
      " 5   mta tax             1048574 non-null  object \n",
      " 6   distance            1048574 non-null  float64\n",
      " 7   pickup time         1048574 non-null  object \n",
      " 8   drop time           1048574 non-null  object \n",
      " 9   num passengers      1048574 non-null  float64\n",
      " 10  toll amount         1048573 non-null  object \n",
      " 11  payment method      1048574 non-null  float64\n",
      " 12  rate code           1048574 non-null  float64\n",
      " 13  stored flag         1048574 non-null  object \n",
      " 14  extra charges       1048574 non-null  object \n",
      " 15  improvement charge  1048573 non-null  object \n",
      " 16  total amount        1048573 non-null  object \n",
      "dtypes: float64(6), int64(1), object(10)\n",
      "memory usage: 136.0+ MB\n"
     ]
    }
   ],
   "source": [
    "data.info()"
   ]
  },
  {
   "cell_type": "code",
   "execution_count": 6,
   "metadata": {},
   "outputs": [],
   "source": [
    "# https://stackoverflow.com/questions/54313463/pandas-datetime-to-unix-timestamp-seconds\n",
    "data['pickup time'] = pd.to_datetime(data['pickup time'])\n",
    "data['drop time'] = pd.to_datetime(data['drop time'])"
   ]
  },
  {
   "cell_type": "code",
   "execution_count": 7,
   "metadata": {},
   "outputs": [],
   "source": [
    "# Drop all the missing values.\n",
    "data.dropna(inplace=True)"
   ]
  },
  {
   "cell_type": "code",
   "execution_count": 8,
   "metadata": {},
   "outputs": [
    {
     "name": "stdout",
     "output_type": "stream",
     "text": [
      "The earliest date is 2017-04-03 06:53:27 and the last date is 2017-04-30 19:17:29\n"
     ]
    }
   ],
   "source": [
    "print('The earliest date is {} and the last date is {}'.format(data['pickup time'].min(), data['pickup time'].max()))"
   ]
  },
  {
   "cell_type": "markdown",
   "metadata": {},
   "source": [
    "So we see that we have data for about a month. We will use this data to predict the total fares."
   ]
  },
  {
   "cell_type": "markdown",
   "metadata": {},
   "source": [
    "1. If we plot the pickups based on the date and time, we expect to see that there will be some daily pattern of demand and similarly the pattern will affect the price of ride.\n",
    "2. General expectations are- longer rides will cost more, pickups from busy locations will have more cost.\n",
    "3. We can use clustering on pickup location to find which pickup spots generally lead to higher fares.\n",
    "4. Similarly for drop locations, we can find which drop locations have higher fares associated with them.\n",
    "5. We could also maybe find a pattern in the tips based on pickup locations. Generally people from posh regions would tip the driver.\n",
    "6. Number of passengers would also be useful in determining if a ride is sedan or suv as passengers more than 3 would have to take a suv.\n",
    "7. The pickup time will be useful if we add time of the day feature. morning 6-11, afternoon 11-3, evening 3-8, night 8-12, late night 12-6. We should plot the data and see what times we get.\n"
   ]
  },
  {
   "cell_type": "code",
   "execution_count": 9,
   "metadata": {},
   "outputs": [],
   "source": [
    "# split the date in day of month, hour.\n",
    "data['pickup day'] = data['pickup time'].dt.day\n",
    "data['drop day'] = data['drop time'].dt.day\n",
    "data['pickup hr'] = data['pickup time'].dt.hour\n",
    "data['drop hr'] = data['drop time'].dt.hour\n",
    "data['day_of_week'] = data['pickup time'].dt.dayofweek"
   ]
  },
  {
   "cell_type": "markdown",
   "metadata": {},
   "source": [
    "# EDA"
   ]
  },
  {
   "cell_type": "code",
   "execution_count": 10,
   "metadata": {},
   "outputs": [
    {
     "data": {
      "text/html": [
       "<div>\n",
       "<style scoped>\n",
       "    .dataframe tbody tr th:only-of-type {\n",
       "        vertical-align: middle;\n",
       "    }\n",
       "\n",
       "    .dataframe tbody tr th {\n",
       "        vertical-align: top;\n",
       "    }\n",
       "\n",
       "    .dataframe thead th {\n",
       "        text-align: right;\n",
       "    }\n",
       "</style>\n",
       "<table border=\"1\" class=\"dataframe\">\n",
       "  <thead>\n",
       "    <tr style=\"text-align: right;\">\n",
       "      <th></th>\n",
       "      <th>ID</th>\n",
       "      <th>vendor id</th>\n",
       "      <th>pickup loc</th>\n",
       "      <th>drop loc</th>\n",
       "      <th>driver tip</th>\n",
       "      <th>mta tax</th>\n",
       "      <th>distance</th>\n",
       "      <th>pickup time</th>\n",
       "      <th>drop time</th>\n",
       "      <th>num passengers</th>\n",
       "      <th>...</th>\n",
       "      <th>payment method</th>\n",
       "      <th>rate code</th>\n",
       "      <th>stored flag</th>\n",
       "      <th>extra charges</th>\n",
       "      <th>improvement charge</th>\n",
       "      <th>total amount</th>\n",
       "      <th>drop day</th>\n",
       "      <th>pickup hr</th>\n",
       "      <th>drop hr</th>\n",
       "      <th>day_of_week</th>\n",
       "    </tr>\n",
       "    <tr>\n",
       "      <th>pickup day</th>\n",
       "      <th></th>\n",
       "      <th></th>\n",
       "      <th></th>\n",
       "      <th></th>\n",
       "      <th></th>\n",
       "      <th></th>\n",
       "      <th></th>\n",
       "      <th></th>\n",
       "      <th></th>\n",
       "      <th></th>\n",
       "      <th></th>\n",
       "      <th></th>\n",
       "      <th></th>\n",
       "      <th></th>\n",
       "      <th></th>\n",
       "      <th></th>\n",
       "      <th></th>\n",
       "      <th></th>\n",
       "      <th></th>\n",
       "      <th></th>\n",
       "      <th></th>\n",
       "    </tr>\n",
       "  </thead>\n",
       "  <tbody>\n",
       "    <tr>\n",
       "      <th>3</th>\n",
       "      <td>188951</td>\n",
       "      <td>188951</td>\n",
       "      <td>188951</td>\n",
       "      <td>188951</td>\n",
       "      <td>188951</td>\n",
       "      <td>188951</td>\n",
       "      <td>188951</td>\n",
       "      <td>188951</td>\n",
       "      <td>188951</td>\n",
       "      <td>188951</td>\n",
       "      <td>...</td>\n",
       "      <td>188951</td>\n",
       "      <td>188951</td>\n",
       "      <td>188951</td>\n",
       "      <td>188951</td>\n",
       "      <td>188951</td>\n",
       "      <td>188951</td>\n",
       "      <td>188951</td>\n",
       "      <td>188951</td>\n",
       "      <td>188951</td>\n",
       "      <td>188951</td>\n",
       "    </tr>\n",
       "    <tr>\n",
       "      <th>4</th>\n",
       "      <td>228223</td>\n",
       "      <td>228223</td>\n",
       "      <td>228223</td>\n",
       "      <td>228223</td>\n",
       "      <td>228223</td>\n",
       "      <td>228223</td>\n",
       "      <td>228223</td>\n",
       "      <td>228223</td>\n",
       "      <td>228223</td>\n",
       "      <td>228223</td>\n",
       "      <td>...</td>\n",
       "      <td>228223</td>\n",
       "      <td>228223</td>\n",
       "      <td>228223</td>\n",
       "      <td>228223</td>\n",
       "      <td>228223</td>\n",
       "      <td>228223</td>\n",
       "      <td>228223</td>\n",
       "      <td>228223</td>\n",
       "      <td>228223</td>\n",
       "      <td>228223</td>\n",
       "    </tr>\n",
       "    <tr>\n",
       "      <th>5</th>\n",
       "      <td>238296</td>\n",
       "      <td>238296</td>\n",
       "      <td>238296</td>\n",
       "      <td>238296</td>\n",
       "      <td>238296</td>\n",
       "      <td>238296</td>\n",
       "      <td>238296</td>\n",
       "      <td>238296</td>\n",
       "      <td>238296</td>\n",
       "      <td>238296</td>\n",
       "      <td>...</td>\n",
       "      <td>238296</td>\n",
       "      <td>238296</td>\n",
       "      <td>238296</td>\n",
       "      <td>238296</td>\n",
       "      <td>238296</td>\n",
       "      <td>238296</td>\n",
       "      <td>238296</td>\n",
       "      <td>238296</td>\n",
       "      <td>238296</td>\n",
       "      <td>238296</td>\n",
       "    </tr>\n",
       "    <tr>\n",
       "      <th>6</th>\n",
       "      <td>247209</td>\n",
       "      <td>247209</td>\n",
       "      <td>247209</td>\n",
       "      <td>247209</td>\n",
       "      <td>247209</td>\n",
       "      <td>247209</td>\n",
       "      <td>247209</td>\n",
       "      <td>247209</td>\n",
       "      <td>247209</td>\n",
       "      <td>247209</td>\n",
       "      <td>...</td>\n",
       "      <td>247209</td>\n",
       "      <td>247209</td>\n",
       "      <td>247209</td>\n",
       "      <td>247209</td>\n",
       "      <td>247209</td>\n",
       "      <td>247209</td>\n",
       "      <td>247209</td>\n",
       "      <td>247209</td>\n",
       "      <td>247209</td>\n",
       "      <td>247209</td>\n",
       "    </tr>\n",
       "    <tr>\n",
       "      <th>7</th>\n",
       "      <td>135032</td>\n",
       "      <td>135032</td>\n",
       "      <td>135032</td>\n",
       "      <td>135032</td>\n",
       "      <td>135032</td>\n",
       "      <td>135032</td>\n",
       "      <td>135032</td>\n",
       "      <td>135032</td>\n",
       "      <td>135032</td>\n",
       "      <td>135032</td>\n",
       "      <td>...</td>\n",
       "      <td>135032</td>\n",
       "      <td>135032</td>\n",
       "      <td>135032</td>\n",
       "      <td>135032</td>\n",
       "      <td>135032</td>\n",
       "      <td>135032</td>\n",
       "      <td>135032</td>\n",
       "      <td>135032</td>\n",
       "      <td>135032</td>\n",
       "      <td>135032</td>\n",
       "    </tr>\n",
       "    <tr>\n",
       "      <th>30</th>\n",
       "      <td>10862</td>\n",
       "      <td>10862</td>\n",
       "      <td>10862</td>\n",
       "      <td>10862</td>\n",
       "      <td>10862</td>\n",
       "      <td>10862</td>\n",
       "      <td>10862</td>\n",
       "      <td>10862</td>\n",
       "      <td>10862</td>\n",
       "      <td>10862</td>\n",
       "      <td>...</td>\n",
       "      <td>10862</td>\n",
       "      <td>10862</td>\n",
       "      <td>10862</td>\n",
       "      <td>10862</td>\n",
       "      <td>10862</td>\n",
       "      <td>10862</td>\n",
       "      <td>10862</td>\n",
       "      <td>10862</td>\n",
       "      <td>10862</td>\n",
       "      <td>10862</td>\n",
       "    </tr>\n",
       "  </tbody>\n",
       "</table>\n",
       "<p>6 rows × 21 columns</p>\n",
       "</div>"
      ],
      "text/plain": [
       "                ID  vendor id  pickup loc  drop loc  driver tip  mta tax  \\\n",
       "pickup day                                                                 \n",
       "3           188951     188951      188951    188951      188951   188951   \n",
       "4           228223     228223      228223    228223      228223   228223   \n",
       "5           238296     238296      238296    238296      238296   238296   \n",
       "6           247209     247209      247209    247209      247209   247209   \n",
       "7           135032     135032      135032    135032      135032   135032   \n",
       "30           10862      10862       10862     10862       10862    10862   \n",
       "\n",
       "            distance  pickup time  drop time  num passengers  ...  \\\n",
       "pickup day                                                    ...   \n",
       "3             188951       188951     188951          188951  ...   \n",
       "4             228223       228223     228223          228223  ...   \n",
       "5             238296       238296     238296          238296  ...   \n",
       "6             247209       247209     247209          247209  ...   \n",
       "7             135032       135032     135032          135032  ...   \n",
       "30             10862        10862      10862           10862  ...   \n",
       "\n",
       "            payment method  rate code  stored flag  extra charges  \\\n",
       "pickup day                                                          \n",
       "3                   188951     188951       188951         188951   \n",
       "4                   228223     228223       228223         228223   \n",
       "5                   238296     238296       238296         238296   \n",
       "6                   247209     247209       247209         247209   \n",
       "7                   135032     135032       135032         135032   \n",
       "30                   10862      10862        10862          10862   \n",
       "\n",
       "            improvement charge  total amount  drop day  pickup hr  drop hr  \\\n",
       "pickup day                                                                   \n",
       "3                       188951        188951    188951     188951   188951   \n",
       "4                       228223        228223    228223     228223   228223   \n",
       "5                       238296        238296    238296     238296   238296   \n",
       "6                       247209        247209    247209     247209   247209   \n",
       "7                       135032        135032    135032     135032   135032   \n",
       "30                       10862         10862     10862      10862    10862   \n",
       "\n",
       "            day_of_week  \n",
       "pickup day               \n",
       "3                188951  \n",
       "4                228223  \n",
       "5                238296  \n",
       "6                247209  \n",
       "7                135032  \n",
       "30                10862  \n",
       "\n",
       "[6 rows x 21 columns]"
      ]
     },
     "execution_count": 10,
     "metadata": {},
     "output_type": "execute_result"
    }
   ],
   "source": [
    "data.groupby('pickup day').count()"
   ]
  },
  {
   "cell_type": "markdown",
   "metadata": {},
   "source": [
    "We see that the data available for date 30 is very less. Also data is only available from 3-7 and from 8-29 is not available."
   ]
  },
  {
   "cell_type": "code",
   "execution_count": 11,
   "metadata": {},
   "outputs": [
    {
     "data": {
      "text/plain": [
       "<matplotlib.axes._subplots.AxesSubplot at 0x279800597b8>"
      ]
     },
     "execution_count": 11,
     "metadata": {},
     "output_type": "execute_result"
    },
    {
     "data": {
      "image/png": "[encoded data removed]",
      "text/plain": [
       "<Figure size 432x288 with 1 Axes>"
      ]
     },
     "metadata": {
      "needs_background": "light"
     },
     "output_type": "display_data"
    }
   ],
   "source": [
    "# plot pickups per hour ie demand per hour.\n",
    "pickups_per_hr = data.sort_values(by='pickup time').groupby(['pickup day','pickup hr']).count()\n",
    "pickups_per_hr['distance'].plot()"
   ]
  },
  {
   "cell_type": "code",
   "execution_count": 22,
   "metadata": {},
   "outputs": [
    {
     "data": {
      "text/html": [
       "<div>\n",
       "<style scoped>\n",
       "    .dataframe tbody tr th:only-of-type {\n",
       "        vertical-align: middle;\n",
       "    }\n",
       "\n",
       "    .dataframe tbody tr th {\n",
       "        vertical-align: top;\n",
       "    }\n",
       "\n",
       "    .dataframe thead th {\n",
       "        text-align: right;\n",
       "    }\n",
       "</style>\n",
       "<table border=\"1\" class=\"dataframe\">\n",
       "  <thead>\n",
       "    <tr style=\"text-align: right;\">\n",
       "      <th></th>\n",
       "      <th></th>\n",
       "      <th>ID</th>\n",
       "      <th>pickup loc</th>\n",
       "      <th>drop loc</th>\n",
       "      <th>distance</th>\n",
       "      <th>num passengers</th>\n",
       "      <th>payment method</th>\n",
       "      <th>rate code</th>\n",
       "      <th>drop day</th>\n",
       "      <th>drop hr</th>\n",
       "      <th>day_of_week</th>\n",
       "    </tr>\n",
       "    <tr>\n",
       "      <th>pickup day</th>\n",
       "      <th>pickup hr</th>\n",
       "      <th></th>\n",
       "      <th></th>\n",
       "      <th></th>\n",
       "      <th></th>\n",
       "      <th></th>\n",
       "      <th></th>\n",
       "      <th></th>\n",
       "      <th></th>\n",
       "      <th></th>\n",
       "      <th></th>\n",
       "    </tr>\n",
       "  </thead>\n",
       "  <tbody>\n",
       "    <tr>\n",
       "      <th rowspan=\"5\" valign=\"top\">3</th>\n",
       "      <th>6</th>\n",
       "      <td>504982008</td>\n",
       "      <td>155512.0</td>\n",
       "      <td>152940.0</td>\n",
       "      <td>3200.06</td>\n",
       "      <td>1395.0</td>\n",
       "      <td>1284.0</td>\n",
       "      <td>1000.0</td>\n",
       "      <td>2878</td>\n",
       "      <td>6590</td>\n",
       "      <td>0</td>\n",
       "    </tr>\n",
       "    <tr>\n",
       "      <th>7</th>\n",
       "      <td>5485051660</td>\n",
       "      <td>1707925.0</td>\n",
       "      <td>1710706.0</td>\n",
       "      <td>29415.00</td>\n",
       "      <td>16269.0</td>\n",
       "      <td>13568.0</td>\n",
       "      <td>10960.0</td>\n",
       "      <td>31556</td>\n",
       "      <td>76179</td>\n",
       "      <td>0</td>\n",
       "    </tr>\n",
       "    <tr>\n",
       "      <th>8</th>\n",
       "      <td>6366634416</td>\n",
       "      <td>1976627.0</td>\n",
       "      <td>1973828.0</td>\n",
       "      <td>31428.67</td>\n",
       "      <td>18557.0</td>\n",
       "      <td>15304.0</td>\n",
       "      <td>12361.0</td>\n",
       "      <td>36245</td>\n",
       "      <td>99488</td>\n",
       "      <td>0</td>\n",
       "    </tr>\n",
       "    <tr>\n",
       "      <th>9</th>\n",
       "      <td>5550839819</td>\n",
       "      <td>1747662.0</td>\n",
       "      <td>1754649.0</td>\n",
       "      <td>28692.43</td>\n",
       "      <td>16708.0</td>\n",
       "      <td>13970.0</td>\n",
       "      <td>10974.0</td>\n",
       "      <td>32003</td>\n",
       "      <td>98404</td>\n",
       "      <td>0</td>\n",
       "    </tr>\n",
       "    <tr>\n",
       "      <th>10</th>\n",
       "      <td>4926487969</td>\n",
       "      <td>1554541.0</td>\n",
       "      <td>1550443.0</td>\n",
       "      <td>26497.82</td>\n",
       "      <td>15063.0</td>\n",
       "      <td>12823.0</td>\n",
       "      <td>9951.0</td>\n",
       "      <td>28304</td>\n",
       "      <td>96593</td>\n",
       "      <td>0</td>\n",
       "    </tr>\n",
       "    <tr>\n",
       "      <th>...</th>\n",
       "      <th>...</th>\n",
       "      <td>...</td>\n",
       "      <td>...</td>\n",
       "      <td>...</td>\n",
       "      <td>...</td>\n",
       "      <td>...</td>\n",
       "      <td>...</td>\n",
       "      <td>...</td>\n",
       "      <td>...</td>\n",
       "      <td>...</td>\n",
       "      <td>...</td>\n",
       "    </tr>\n",
       "    <tr>\n",
       "      <th rowspan=\"3\" valign=\"top\">7</th>\n",
       "      <th>13</th>\n",
       "      <td>6317369518</td>\n",
       "      <td>2013549.0</td>\n",
       "      <td>1979542.0</td>\n",
       "      <td>36710.67</td>\n",
       "      <td>19219.0</td>\n",
       "      <td>16378.0</td>\n",
       "      <td>12715.0</td>\n",
       "      <td>84373</td>\n",
       "      <td>159930</td>\n",
       "      <td>48200</td>\n",
       "    </tr>\n",
       "    <tr>\n",
       "      <th>14</th>\n",
       "      <td>7081688185</td>\n",
       "      <td>2257785.0</td>\n",
       "      <td>2236112.0</td>\n",
       "      <td>39523.62</td>\n",
       "      <td>21737.0</td>\n",
       "      <td>18386.0</td>\n",
       "      <td>14214.0</td>\n",
       "      <td>94489</td>\n",
       "      <td>192787</td>\n",
       "      <td>53972</td>\n",
       "    </tr>\n",
       "    <tr>\n",
       "      <th>15</th>\n",
       "      <td>2987857943</td>\n",
       "      <td>969798.0</td>\n",
       "      <td>952218.0</td>\n",
       "      <td>16967.56</td>\n",
       "      <td>9203.0</td>\n",
       "      <td>7778.0</td>\n",
       "      <td>6036.0</td>\n",
       "      <td>40048</td>\n",
       "      <td>86222</td>\n",
       "      <td>22880</td>\n",
       "    </tr>\n",
       "    <tr>\n",
       "      <th rowspan=\"2\" valign=\"top\">30</th>\n",
       "      <th>18</th>\n",
       "      <td>4015457760</td>\n",
       "      <td>1242587.0</td>\n",
       "      <td>1237116.0</td>\n",
       "      <td>23579.51</td>\n",
       "      <td>12501.0</td>\n",
       "      <td>10280.0</td>\n",
       "      <td>7980.0</td>\n",
       "      <td>228162</td>\n",
       "      <td>139848</td>\n",
       "      <td>45702</td>\n",
       "    </tr>\n",
       "    <tr>\n",
       "      <th>19</th>\n",
       "      <td>1705401803</td>\n",
       "      <td>526827.0</td>\n",
       "      <td>528948.0</td>\n",
       "      <td>9696.45</td>\n",
       "      <td>5399.0</td>\n",
       "      <td>4418.0</td>\n",
       "      <td>3391.0</td>\n",
       "      <td>97060</td>\n",
       "      <td>61708</td>\n",
       "      <td>19470</td>\n",
       "    </tr>\n",
       "  </tbody>\n",
       "</table>\n",
       "<p>108 rows × 10 columns</p>\n",
       "</div>"
      ],
      "text/plain": [
       "                              ID  pickup loc   drop loc  distance  \\\n",
       "pickup day pickup hr                                                \n",
       "3          6           504982008    155512.0   152940.0   3200.06   \n",
       "           7          5485051660   1707925.0  1710706.0  29415.00   \n",
       "           8          6366634416   1976627.0  1973828.0  31428.67   \n",
       "           9          5550839819   1747662.0  1754649.0  28692.43   \n",
       "           10         4926487969   1554541.0  1550443.0  26497.82   \n",
       "...                          ...         ...        ...       ...   \n",
       "7          13         6317369518   2013549.0  1979542.0  36710.67   \n",
       "           14         7081688185   2257785.0  2236112.0  39523.62   \n",
       "           15         2987857943    969798.0   952218.0  16967.56   \n",
       "30         18         4015457760   1242587.0  1237116.0  23579.51   \n",
       "           19         1705401803    526827.0   528948.0   9696.45   \n",
       "\n",
       "                      num passengers  payment method  rate code  drop day  \\\n",
       "pickup day pickup hr                                                        \n",
       "3          6                  1395.0          1284.0     1000.0      2878   \n",
       "           7                 16269.0         13568.0    10960.0     31556   \n",
       "           8                 18557.0         15304.0    12361.0     36245   \n",
       "           9                 16708.0         13970.0    10974.0     32003   \n",
       "           10                15063.0         12823.0     9951.0     28304   \n",
       "...                              ...             ...        ...       ...   \n",
       "7          13                19219.0         16378.0    12715.0     84373   \n",
       "           14                21737.0         18386.0    14214.0     94489   \n",
       "           15                 9203.0          7778.0     6036.0     40048   \n",
       "30         18                12501.0         10280.0     7980.0    228162   \n",
       "           19                 5399.0          4418.0     3391.0     97060   \n",
       "\n",
       "                      drop hr  day_of_week  \n",
       "pickup day pickup hr                        \n",
       "3          6             6590            0  \n",
       "           7            76179            0  \n",
       "           8            99488            0  \n",
       "           9            98404            0  \n",
       "           10           96593            0  \n",
       "...                       ...          ...  \n",
       "7          13          159930        48200  \n",
       "           14          192787        53972  \n",
       "           15           86222        22880  \n",
       "30         18          139848        45702  \n",
       "           19           61708        19470  \n",
       "\n",
       "[108 rows x 10 columns]"
      ]
     },
     "execution_count": 22,
     "metadata": {},
     "output_type": "execute_result"
    }
   ],
   "source": [
    "price_per_hr = data.sort_values(by='pickup time').groupby(['pickup day','pickup hr']).sum()\n",
    "price_per_hr"
   ]
  },
  {
   "cell_type": "code",
   "execution_count": 24,
   "metadata": {},
   "outputs": [],
   "source": [
    "dc_component = pickups_per_hr['distance'].mean()\n",
    "freq = np.fft.fftfreq(len(pickups_per_hr['distance']))\n",
    "n = len(freq)"
   ]
  },
  {
   "cell_type": "code",
   "execution_count": 25,
   "metadata": {},
   "outputs": [
    {
     "data": {
      "text/plain": [
       "[<matplotlib.lines.Line2D at 0x279812d8be0>]"
      ]
     },
     "execution_count": 25,
     "metadata": {},
     "output_type": "execute_result"
    },
    {
     "data": {
      "image/png": "[encoded data removed]",
      "text/plain": [
       "<Figure size 432x288 with 1 Axes>"
      ]
     },
     "metadata": {
      "needs_background": "light"
     },
     "output_type": "display_data"
    }
   ],
   "source": [
    "fft_vals = np.fft.fft(pickups_per_hr['distance']-dc_component)/len(pickups_per_hr['distance'])\n",
    "plt.plot(freq[:int(n/2)], abs(fft_vals)[:int(n/2)])"
   ]
  },
  {
   "cell_type": "code",
   "execution_count": 26,
   "metadata": {},
   "outputs": [
    {
     "data": {
      "text/plain": [
       "([<matplotlib.axis.XTick at 0x27981778f98>,\n",
       "  <matplotlib.axis.XTick at 0x27981082908>,\n",
       "  <matplotlib.axis.XTick at 0x27981586c88>,\n",
       "  <matplotlib.axis.XTick at 0x27981593c88>,\n",
       "  <matplotlib.axis.XTick at 0x2798131a7f0>,\n",
       "  <matplotlib.axis.XTick at 0x2798131a630>,\n",
       "  <matplotlib.axis.XTick at 0x2798135a278>,\n",
       "  <matplotlib.axis.XTick at 0x2798109e240>,\n",
       "  <matplotlib.axis.XTick at 0x2798145a8d0>,\n",
       "  <matplotlib.axis.XTick at 0x2798135ae10>,\n",
       "  <matplotlib.axis.XTick at 0x2798135a710>,\n",
       "  <matplotlib.axis.XTick at 0x27981365240>,\n",
       "  <matplotlib.axis.XTick at 0x27981365710>,\n",
       "  <matplotlib.axis.XTick at 0x27981365be0>,\n",
       "  <matplotlib.axis.XTick at 0x2798136f160>,\n",
       "  <matplotlib.axis.XTick at 0x2798136f5c0>,\n",
       "  <matplotlib.axis.XTick at 0x2798136fa90>,\n",
       "  <matplotlib.axis.XTick at 0x2798136ff60>,\n",
       "  <matplotlib.axis.XTick at 0x2798136fb38>,\n",
       "  <matplotlib.axis.XTick at 0x2798131a278>,\n",
       "  <matplotlib.axis.XTick at 0x27981384278>,\n",
       "  <matplotlib.axis.XTick at 0x27981384710>,\n",
       "  <matplotlib.axis.XTick at 0x27981384be0>,\n",
       "  <matplotlib.axis.XTick at 0x27981392160>],\n",
       " <a list of 24 Text xticklabel objects>)"
      ]
     },
     "execution_count": 26,
     "metadata": {},
     "output_type": "execute_result"
    },
    {
     "data": {
      "image/png": "[encoded data removed]",
      "text/plain": [
       "<Figure size 432x288 with 1 Axes>"
      ]
     },
     "metadata": {
      "needs_background": "light"
     },
     "output_type": "display_data"
    }
   ],
   "source": [
    "# Plot hourly data for one day\n",
    "pickups_one_day = data.loc[data['pickup day']==4].sort_values(by='pickup time').groupby(['pickup day','pickup hr']).count()\n",
    "pickups_one_day['distance'].plot()\n",
    "plt.xticks(np.arange(0,24,1), np.arange(0,24,1))"
   ]
  },
  {
   "cell_type": "markdown",
   "metadata": {},
   "source": [
    "### These will be our thresholds to bin the data based on time of the day.\n",
    "early morning = 5-8\n",
    "morning = 9-11\n",
    "afternoon = 12-15\n",
    "evening = 16-19\n",
    "night = 20-23\n",
    "late night = 0-4"
   ]
  },
  {
   "cell_type": "code",
   "execution_count": 27,
   "metadata": {},
   "outputs": [],
   "source": [
    "data.drop(data[data['distance']==0].index, inplace=True)"
   ]
  },
  {
   "cell_type": "code",
   "execution_count": 28,
   "metadata": {},
   "outputs": [],
   "source": [
    "import seaborn as sns"
   ]
  },
  {
   "cell_type": "code",
   "execution_count": 29,
   "metadata": {},
   "outputs": [
    {
     "data": {
      "text/plain": [
       "Index(['ID', 'vendor id', 'pickup loc', 'drop loc', 'driver tip', 'mta tax',\n",
       "       'distance', 'pickup time', 'drop time', 'num passengers', 'toll amount',\n",
       "       'payment method', 'rate code', 'stored flag', 'extra charges',\n",
       "       'improvement charge', 'total amount', 'pickup day', 'drop day',\n",
       "       'pickup hr', 'drop hr', 'day_of_week'],\n",
       "      dtype='object')"
      ]
     },
     "execution_count": 29,
     "metadata": {},
     "output_type": "execute_result"
    }
   ],
   "source": [
    "data.columns"
   ]
  },
  {
   "cell_type": "code",
   "execution_count": 30,
   "metadata": {},
   "outputs": [
    {
     "name": "stdout",
     "output_type": "stream",
     "text": [
      "<class 'pandas.core.frame.DataFrame'>\n",
      "Int64Index: 1041713 entries, 0 to 1048574\n",
      "Data columns (total 22 columns):\n",
      " #   Column              Non-Null Count    Dtype         \n",
      "---  ------              --------------    -----         \n",
      " 0   ID                  1041713 non-null  int64         \n",
      " 1   vendor id           1041713 non-null  object        \n",
      " 2   pickup loc          1041713 non-null  float64       \n",
      " 3   drop loc            1041713 non-null  float64       \n",
      " 4   driver tip          1041713 non-null  object        \n",
      " 5   mta tax             1041713 non-null  object        \n",
      " 6   distance            1041713 non-null  float64       \n",
      " 7   pickup time         1041713 non-null  datetime64[ns]\n",
      " 8   drop time           1041713 non-null  datetime64[ns]\n",
      " 9   num passengers      1041713 non-null  float64       \n",
      " 10  toll amount         1041713 non-null  object        \n",
      " 11  payment method      1041713 non-null  float64       \n",
      " 12  rate code           1041713 non-null  float64       \n",
      " 13  stored flag         1041713 non-null  object        \n",
      " 14  extra charges       1041713 non-null  object        \n",
      " 15  improvement charge  1041713 non-null  object        \n",
      " 16  total amount        1041713 non-null  object        \n",
      " 17  pickup day          1041713 non-null  int64         \n",
      " 18  drop day            1041713 non-null  int64         \n",
      " 19  pickup hr           1041713 non-null  int64         \n",
      " 20  drop hr             1041713 non-null  int64         \n",
      " 21  day_of_week         1041713 non-null  int64         \n",
      "dtypes: datetime64[ns](2), float64(6), int64(6), object(8)\n",
      "memory usage: 182.8+ MB\n"
     ]
    }
   ],
   "source": [
    "data.info()"
   ]
  },
  {
   "cell_type": "code",
   "execution_count": 31,
   "metadata": {},
   "outputs": [],
   "source": [
    "cat_cols = ['driver tip', 'mta tax', 'toll amount',\n",
    "       'payment method', 'rate code', 'extra charges',\n",
    "       'improvement charge', 'total amount']\n",
    "\n",
    "for col in cat_cols:\n",
    "    data[col] = pd.to_numeric(data[col], errors='coerce')"
   ]
  },
  {
   "cell_type": "code",
   "execution_count": 32,
   "metadata": {},
   "outputs": [
    {
     "name": "stdout",
     "output_type": "stream",
     "text": [
      "<class 'pandas.core.frame.DataFrame'>\n",
      "Int64Index: 1041713 entries, 0 to 1048574\n",
      "Data columns (total 22 columns):\n",
      " #   Column              Non-Null Count    Dtype         \n",
      "---  ------              --------------    -----         \n",
      " 0   ID                  1041713 non-null  int64         \n",
      " 1   vendor id           1041713 non-null  object        \n",
      " 2   pickup loc          1041713 non-null  float64       \n",
      " 3   drop loc            1041713 non-null  float64       \n",
      " 4   driver tip          1041710 non-null  float64       \n",
      " 5   mta tax             1041311 non-null  float64       \n",
      " 6   distance            1041713 non-null  float64       \n",
      " 7   pickup time         1041713 non-null  datetime64[ns]\n",
      " 8   drop time           1041713 non-null  datetime64[ns]\n",
      " 9   num passengers      1041713 non-null  float64       \n",
      " 10  toll amount         1041711 non-null  float64       \n",
      " 11  payment method      1041713 non-null  float64       \n",
      " 12  rate code           1041713 non-null  float64       \n",
      " 13  stored flag         1041713 non-null  object        \n",
      " 14  extra charges       1041536 non-null  float64       \n",
      " 15  improvement charge  1041306 non-null  float64       \n",
      " 16  total amount        1041306 non-null  float64       \n",
      " 17  pickup day          1041713 non-null  int64         \n",
      " 18  drop day            1041713 non-null  int64         \n",
      " 19  pickup hr           1041713 non-null  int64         \n",
      " 20  drop hr             1041713 non-null  int64         \n",
      " 21  day_of_week         1041713 non-null  int64         \n",
      "dtypes: datetime64[ns](2), float64(12), int64(6), object(2)\n",
      "memory usage: 182.8+ MB\n"
     ]
    }
   ],
   "source": [
    "data.info()"
   ]
  },
  {
   "cell_type": "code",
   "execution_count": 33,
   "metadata": {},
   "outputs": [],
   "source": [
    "data.drop(['ID','vendor id','stored flag','drop day','drop hr'], axis=1, inplace=True)"
   ]
  },
  {
   "cell_type": "code",
   "execution_count": 34,
   "metadata": {},
   "outputs": [],
   "source": [
    "data['trip_duration'] = data['drop time'] - data['pickup time']"
   ]
  },
  {
   "cell_type": "code",
   "execution_count": 35,
   "metadata": {},
   "outputs": [],
   "source": [
    "#data.drop(['drop time','pickup time'], axis=1, inplace=True)"
   ]
  },
  {
   "cell_type": "code",
   "execution_count": 36,
   "metadata": {},
   "outputs": [
    {
     "data": {
      "text/html": [
       "<div>\n",
       "<style scoped>\n",
       "    .dataframe tbody tr th:only-of-type {\n",
       "        vertical-align: middle;\n",
       "    }\n",
       "\n",
       "    .dataframe tbody tr th {\n",
       "        vertical-align: top;\n",
       "    }\n",
       "\n",
       "    .dataframe thead th {\n",
       "        text-align: right;\n",
       "    }\n",
       "</style>\n",
       "<table border=\"1\" class=\"dataframe\">\n",
       "  <thead>\n",
       "    <tr style=\"text-align: right;\">\n",
       "      <th></th>\n",
       "      <th>pickup loc</th>\n",
       "      <th>drop loc</th>\n",
       "      <th>driver tip</th>\n",
       "      <th>mta tax</th>\n",
       "      <th>distance</th>\n",
       "      <th>pickup time</th>\n",
       "      <th>drop time</th>\n",
       "      <th>num passengers</th>\n",
       "      <th>toll amount</th>\n",
       "      <th>payment method</th>\n",
       "      <th>rate code</th>\n",
       "      <th>extra charges</th>\n",
       "      <th>improvement charge</th>\n",
       "      <th>total amount</th>\n",
       "      <th>pickup day</th>\n",
       "      <th>pickup hr</th>\n",
       "      <th>day_of_week</th>\n",
       "      <th>trip_duration</th>\n",
       "    </tr>\n",
       "  </thead>\n",
       "  <tbody>\n",
       "    <tr>\n",
       "      <th>517843</th>\n",
       "      <td>132.0</td>\n",
       "      <td>42.0</td>\n",
       "      <td>11.71</td>\n",
       "      <td>0.5</td>\n",
       "      <td>22.44</td>\n",
       "      <td>2017-04-03 08:12:10</td>\n",
       "      <td>2017-04-04 08:11:56</td>\n",
       "      <td>2.0</td>\n",
       "      <td>5.76</td>\n",
       "      <td>1.0</td>\n",
       "      <td>2.0</td>\n",
       "      <td>0.0</td>\n",
       "      <td>0.3</td>\n",
       "      <td>70.27</td>\n",
       "      <td>3</td>\n",
       "      <td>8</td>\n",
       "      <td>0</td>\n",
       "      <td>0 days 23:59:46</td>\n",
       "    </tr>\n",
       "  </tbody>\n",
       "</table>\n",
       "</div>"
      ],
      "text/plain": [
       "        pickup loc  drop loc  driver tip  mta tax  distance  \\\n",
       "517843       132.0      42.0       11.71      0.5     22.44   \n",
       "\n",
       "               pickup time           drop time  num passengers  toll amount  \\\n",
       "517843 2017-04-03 08:12:10 2017-04-04 08:11:56             2.0         5.76   \n",
       "\n",
       "        payment method  rate code  extra charges  improvement charge  \\\n",
       "517843             1.0        2.0            0.0                 0.3   \n",
       "\n",
       "        total amount  pickup day  pickup hr  day_of_week   trip_duration  \n",
       "517843         70.27           3          8            0 0 days 23:59:46  "
      ]
     },
     "execution_count": 36,
     "metadata": {},
     "output_type": "execute_result"
    }
   ],
   "source": [
    "data[data.trip_duration==data['trip_duration'].max()]"
   ]
  },
  {
   "cell_type": "code",
   "execution_count": 37,
   "metadata": {},
   "outputs": [
    {
     "name": "stdout",
     "output_type": "stream",
     "text": [
      "1778999999999 nanoseconds\n",
      "1863999999999 nanoseconds\n",
      "1962999999999 nanoseconds\n",
      "2081999999999 nanoseconds\n",
      "2229999999999 nanoseconds\n",
      "2413999999999 nanoseconds\n",
      "2653999999999 nanoseconds\n",
      "3008759999999 nanoseconds\n",
      "3668999999999 nanoseconds\n"
     ]
    }
   ],
   "source": [
    "for q in range(91,100):\n",
    "    print(np.percentile(data['trip_duration'],q))"
   ]
  },
  {
   "cell_type": "code",
   "execution_count": 38,
   "metadata": {},
   "outputs": [
    {
     "data": {
      "text/plain": [
       "{'whiskers': [<matplotlib.lines.Line2D at 0x27983e5ae48>,\n",
       "  <matplotlib.lines.Line2D at 0x27983e5af28>],\n",
       " 'caps': [<matplotlib.lines.Line2D at 0x27983e61710>,\n",
       "  <matplotlib.lines.Line2D at 0x27983e61b70>],\n",
       " 'boxes': [<matplotlib.lines.Line2D at 0x27983e5a8d0>],\n",
       " 'medians': [<matplotlib.lines.Line2D at 0x27983e61fd0>],\n",
       " 'fliers': [<matplotlib.lines.Line2D at 0x27983e66470>],\n",
       " 'means': []}"
      ]
     },
     "execution_count": 38,
     "metadata": {},
     "output_type": "execute_result"
    },
    {
     "data": {
      "image/png": "[encoded data removed]",
      "text/plain": [
       "<Figure size 432x288 with 1 Axes>"
      ]
     },
     "metadata": {
      "needs_background": "light"
     },
     "output_type": "display_data"
    }
   ],
   "source": [
    "plt.boxplot(data['trip_duration'])"
   ]
  },
  {
   "cell_type": "code",
   "execution_count": 39,
   "metadata": {},
   "outputs": [
    {
     "name": "stderr",
     "output_type": "stream",
     "text": [
      "C:\\Users\\admin\\Anaconda3\\lib\\site-packages\\matplotlib\\cbook\\__init__.py:2064: FutureWarning: Support for multi-dimensional indexing (e.g. `obj[:, None]`) is deprecated and will be removed in a future version.  Convert to a numpy array before indexing instead.\n",
      "  x[:, None]\n",
      "C:\\Users\\admin\\Anaconda3\\lib\\site-packages\\matplotlib\\axes\\_base.py:248: FutureWarning: Support for multi-dimensional indexing (e.g. `obj[:, None]`) is deprecated and will be removed in a future version.  Convert to a numpy array before indexing instead.\n",
      "  x = x[:, np.newaxis]\n",
      "C:\\Users\\admin\\Anaconda3\\lib\\site-packages\\matplotlib\\axes\\_base.py:250: FutureWarning: Support for multi-dimensional indexing (e.g. `obj[:, None]`) is deprecated and will be removed in a future version.  Convert to a numpy array before indexing instead.\n",
      "  y = y[:, np.newaxis]\n"
     ]
    },
    {
     "data": {
      "text/plain": [
       "<matplotlib.axes._subplots.AxesSubplot at 0x27983e79048>"
      ]
     },
     "execution_count": 39,
     "metadata": {},
     "output_type": "execute_result"
    },
    {
     "data": {
      "image/png": "[encoded data removed]",
      "text/plain": [
       "<Figure size 864x576 with 1 Axes>"
      ]
     },
     "metadata": {
      "needs_background": "light"
     },
     "output_type": "display_data"
    }
   ],
   "source": [
    "plt.figure(figsize=(12,8))\n",
    "sns.kdeplot(pd.to_numeric(data['trip_duration']))"
   ]
  },
  {
   "cell_type": "markdown",
   "metadata": {},
   "source": [
    "Most trip duration are short and very few are large.\n",
    "We will plot them and see the inflection point to get the threshold."
   ]
  },
  {
   "cell_type": "code",
   "execution_count": 40,
   "metadata": {},
   "outputs": [
    {
     "data": {
      "text/plain": [
       "[<matplotlib.lines.Line2D at 0x27983f48f98>]"
      ]
     },
     "execution_count": 40,
     "metadata": {},
     "output_type": "execute_result"
    },
    {
     "data": {
      "image/png": "[encoded data removed]",
      "text/plain": [
       "<Figure size 864x576 with 1 Axes>"
      ]
     },
     "metadata": {
      "needs_background": "light"
     },
     "output_type": "display_data"
    }
   ],
   "source": [
    "plt.figure(figsize=(12,8))\n",
    "plt.plot(np.sort(data['trip_duration'][-100:]))"
   ]
  },
  {
   "cell_type": "code",
   "execution_count": 41,
   "metadata": {},
   "outputs": [
    {
     "name": "stdout",
     "output_type": "stream",
     "text": [
      "-293000000000 nanoseconds 1795000000000 nanoseconds\n"
     ]
    }
   ],
   "source": [
    "iqr = np.percentile(data['trip_duration'], 75) - np.percentile(data['trip_duration'], 25)\n",
    "upperlim = np.percentile(data['trip_duration'], 75) + iqr\n",
    "lowerlim = np.percentile(data['trip_duration'], 25) - iqr\n",
    "print(lowerlim, upperlim)"
   ]
  },
  {
   "cell_type": "code",
   "execution_count": 42,
   "metadata": {},
   "outputs": [
    {
     "data": {
      "text/plain": [
       "18.0"
      ]
     },
     "execution_count": 42,
     "metadata": {},
     "output_type": "execute_result"
    }
   ],
   "source": [
    "pd.to_numeric(data['trip_duration']).loc[771496]/10**9"
   ]
  },
  {
   "cell_type": "code",
   "execution_count": 43,
   "metadata": {},
   "outputs": [],
   "source": [
    "data['trip_duration'] = pd.to_numeric(data['trip_duration'])/10**9/60"
   ]
  },
  {
   "cell_type": "code",
   "execution_count": 44,
   "metadata": {
    "scrolled": true
   },
   "outputs": [
    {
     "data": {
      "text/html": [
       "<div>\n",
       "<style scoped>\n",
       "    .dataframe tbody tr th:only-of-type {\n",
       "        vertical-align: middle;\n",
       "    }\n",
       "\n",
       "    .dataframe tbody tr th {\n",
       "        vertical-align: top;\n",
       "    }\n",
       "\n",
       "    .dataframe thead th {\n",
       "        text-align: right;\n",
       "    }\n",
       "</style>\n",
       "<table border=\"1\" class=\"dataframe\">\n",
       "  <thead>\n",
       "    <tr style=\"text-align: right;\">\n",
       "      <th></th>\n",
       "      <th>pickup loc</th>\n",
       "      <th>drop loc</th>\n",
       "      <th>driver tip</th>\n",
       "      <th>mta tax</th>\n",
       "      <th>distance</th>\n",
       "      <th>pickup time</th>\n",
       "      <th>drop time</th>\n",
       "      <th>num passengers</th>\n",
       "      <th>toll amount</th>\n",
       "      <th>payment method</th>\n",
       "      <th>rate code</th>\n",
       "      <th>extra charges</th>\n",
       "      <th>improvement charge</th>\n",
       "      <th>total amount</th>\n",
       "      <th>pickup day</th>\n",
       "      <th>pickup hr</th>\n",
       "      <th>day_of_week</th>\n",
       "      <th>trip_duration</th>\n",
       "      <th>velocity</th>\n",
       "    </tr>\n",
       "  </thead>\n",
       "  <tbody>\n",
       "    <tr>\n",
       "      <th>0</th>\n",
       "      <td>170.0</td>\n",
       "      <td>233.0</td>\n",
       "      <td>1.83</td>\n",
       "      <td>0.5</td>\n",
       "      <td>0.70</td>\n",
       "      <td>2017-04-04 17:59:43</td>\n",
       "      <td>2017-04-04 18:05:04</td>\n",
       "      <td>1.0</td>\n",
       "      <td>0.0</td>\n",
       "      <td>1.0</td>\n",
       "      <td>1.0</td>\n",
       "      <td>1.0</td>\n",
       "      <td>0.3</td>\n",
       "      <td>9.13</td>\n",
       "      <td>4</td>\n",
       "      <td>17</td>\n",
       "      <td>1</td>\n",
       "      <td>5.350000</td>\n",
       "      <td>0.130841</td>\n",
       "    </tr>\n",
       "    <tr>\n",
       "      <th>1</th>\n",
       "      <td>151.0</td>\n",
       "      <td>243.0</td>\n",
       "      <td>3.56</td>\n",
       "      <td>0.5</td>\n",
       "      <td>4.64</td>\n",
       "      <td>2017-04-03 19:03:34</td>\n",
       "      <td>2017-04-03 19:20:04</td>\n",
       "      <td>1.0</td>\n",
       "      <td>0.0</td>\n",
       "      <td>1.0</td>\n",
       "      <td>1.0</td>\n",
       "      <td>1.0</td>\n",
       "      <td>0.3</td>\n",
       "      <td>21.36</td>\n",
       "      <td>3</td>\n",
       "      <td>19</td>\n",
       "      <td>0</td>\n",
       "      <td>16.500000</td>\n",
       "      <td>0.281212</td>\n",
       "    </tr>\n",
       "    <tr>\n",
       "      <th>2</th>\n",
       "      <td>68.0</td>\n",
       "      <td>90.0</td>\n",
       "      <td>1.50</td>\n",
       "      <td>0.5</td>\n",
       "      <td>1.29</td>\n",
       "      <td>2017-04-03 15:06:13</td>\n",
       "      <td>2017-04-03 15:12:30</td>\n",
       "      <td>2.0</td>\n",
       "      <td>0.0</td>\n",
       "      <td>1.0</td>\n",
       "      <td>1.0</td>\n",
       "      <td>0.0</td>\n",
       "      <td>0.3</td>\n",
       "      <td>8.80</td>\n",
       "      <td>3</td>\n",
       "      <td>15</td>\n",
       "      <td>0</td>\n",
       "      <td>6.283333</td>\n",
       "      <td>0.205305</td>\n",
       "    </tr>\n",
       "    <tr>\n",
       "      <th>3</th>\n",
       "      <td>142.0</td>\n",
       "      <td>234.0</td>\n",
       "      <td>1.50</td>\n",
       "      <td>0.5</td>\n",
       "      <td>2.74</td>\n",
       "      <td>2017-04-04 08:10:52</td>\n",
       "      <td>2017-04-04 08:27:00</td>\n",
       "      <td>1.0</td>\n",
       "      <td>0.0</td>\n",
       "      <td>1.0</td>\n",
       "      <td>1.0</td>\n",
       "      <td>0.0</td>\n",
       "      <td>0.3</td>\n",
       "      <td>14.80</td>\n",
       "      <td>4</td>\n",
       "      <td>8</td>\n",
       "      <td>1</td>\n",
       "      <td>16.133333</td>\n",
       "      <td>0.169835</td>\n",
       "    </tr>\n",
       "    <tr>\n",
       "      <th>4</th>\n",
       "      <td>238.0</td>\n",
       "      <td>238.0</td>\n",
       "      <td>0.00</td>\n",
       "      <td>0.5</td>\n",
       "      <td>0.45</td>\n",
       "      <td>2017-04-05 14:02:59</td>\n",
       "      <td>2017-04-05 14:05:41</td>\n",
       "      <td>6.0</td>\n",
       "      <td>0.0</td>\n",
       "      <td>2.0</td>\n",
       "      <td>1.0</td>\n",
       "      <td>0.0</td>\n",
       "      <td>0.3</td>\n",
       "      <td>4.80</td>\n",
       "      <td>5</td>\n",
       "      <td>14</td>\n",
       "      <td>2</td>\n",
       "      <td>2.700000</td>\n",
       "      <td>0.166667</td>\n",
       "    </tr>\n",
       "    <tr>\n",
       "      <th>...</th>\n",
       "      <td>...</td>\n",
       "      <td>...</td>\n",
       "      <td>...</td>\n",
       "      <td>...</td>\n",
       "      <td>...</td>\n",
       "      <td>...</td>\n",
       "      <td>...</td>\n",
       "      <td>...</td>\n",
       "      <td>...</td>\n",
       "      <td>...</td>\n",
       "      <td>...</td>\n",
       "      <td>...</td>\n",
       "      <td>...</td>\n",
       "      <td>...</td>\n",
       "      <td>...</td>\n",
       "      <td>...</td>\n",
       "      <td>...</td>\n",
       "      <td>...</td>\n",
       "      <td>...</td>\n",
       "    </tr>\n",
       "    <tr>\n",
       "      <th>1048570</th>\n",
       "      <td>48.0</td>\n",
       "      <td>50.0</td>\n",
       "      <td>1.00</td>\n",
       "      <td>0.5</td>\n",
       "      <td>1.40</td>\n",
       "      <td>2017-04-06 23:17:09</td>\n",
       "      <td>2017-04-06 23:25:04</td>\n",
       "      <td>1.0</td>\n",
       "      <td>0.0</td>\n",
       "      <td>1.0</td>\n",
       "      <td>1.0</td>\n",
       "      <td>0.5</td>\n",
       "      <td>0.3</td>\n",
       "      <td>9.80</td>\n",
       "      <td>6</td>\n",
       "      <td>23</td>\n",
       "      <td>3</td>\n",
       "      <td>7.916667</td>\n",
       "      <td>0.176842</td>\n",
       "    </tr>\n",
       "    <tr>\n",
       "      <th>1048571</th>\n",
       "      <td>237.0</td>\n",
       "      <td>166.0</td>\n",
       "      <td>0.00</td>\n",
       "      <td>0.5</td>\n",
       "      <td>3.60</td>\n",
       "      <td>2017-04-06 10:58:47</td>\n",
       "      <td>2017-04-06 11:22:04</td>\n",
       "      <td>1.0</td>\n",
       "      <td>0.0</td>\n",
       "      <td>2.0</td>\n",
       "      <td>1.0</td>\n",
       "      <td>0.0</td>\n",
       "      <td>0.3</td>\n",
       "      <td>18.30</td>\n",
       "      <td>6</td>\n",
       "      <td>10</td>\n",
       "      <td>3</td>\n",
       "      <td>23.283333</td>\n",
       "      <td>0.154617</td>\n",
       "    </tr>\n",
       "    <tr>\n",
       "      <th>1048572</th>\n",
       "      <td>164.0</td>\n",
       "      <td>90.0</td>\n",
       "      <td>2.35</td>\n",
       "      <td>0.5</td>\n",
       "      <td>1.70</td>\n",
       "      <td>2017-04-06 22:03:42</td>\n",
       "      <td>2017-04-06 22:17:04</td>\n",
       "      <td>1.0</td>\n",
       "      <td>0.0</td>\n",
       "      <td>1.0</td>\n",
       "      <td>1.0</td>\n",
       "      <td>0.5</td>\n",
       "      <td>0.3</td>\n",
       "      <td>14.15</td>\n",
       "      <td>6</td>\n",
       "      <td>22</td>\n",
       "      <td>3</td>\n",
       "      <td>13.366667</td>\n",
       "      <td>0.127182</td>\n",
       "    </tr>\n",
       "    <tr>\n",
       "      <th>1048573</th>\n",
       "      <td>264.0</td>\n",
       "      <td>264.0</td>\n",
       "      <td>0.00</td>\n",
       "      <td>0.5</td>\n",
       "      <td>1.80</td>\n",
       "      <td>2017-04-06 18:43:22</td>\n",
       "      <td>2017-04-06 18:56:09</td>\n",
       "      <td>4.0</td>\n",
       "      <td>0.0</td>\n",
       "      <td>2.0</td>\n",
       "      <td>1.0</td>\n",
       "      <td>1.0</td>\n",
       "      <td>0.3</td>\n",
       "      <td>11.80</td>\n",
       "      <td>6</td>\n",
       "      <td>18</td>\n",
       "      <td>3</td>\n",
       "      <td>12.783333</td>\n",
       "      <td>0.140808</td>\n",
       "    </tr>\n",
       "    <tr>\n",
       "      <th>1048574</th>\n",
       "      <td>74.0</td>\n",
       "      <td>74.0</td>\n",
       "      <td>0.00</td>\n",
       "      <td>0.5</td>\n",
       "      <td>0.30</td>\n",
       "      <td>2017-04-04 07:45:03</td>\n",
       "      <td>2017-04-04 07:47:49</td>\n",
       "      <td>1.0</td>\n",
       "      <td>0.0</td>\n",
       "      <td>2.0</td>\n",
       "      <td>1.0</td>\n",
       "      <td>0.0</td>\n",
       "      <td>0.3</td>\n",
       "      <td>4.80</td>\n",
       "      <td>4</td>\n",
       "      <td>7</td>\n",
       "      <td>1</td>\n",
       "      <td>2.766667</td>\n",
       "      <td>0.108434</td>\n",
       "    </tr>\n",
       "  </tbody>\n",
       "</table>\n",
       "<p>1041713 rows × 19 columns</p>\n",
       "</div>"
      ],
      "text/plain": [
       "         pickup loc  drop loc  driver tip  mta tax  distance  \\\n",
       "0             170.0     233.0        1.83      0.5      0.70   \n",
       "1             151.0     243.0        3.56      0.5      4.64   \n",
       "2              68.0      90.0        1.50      0.5      1.29   \n",
       "3             142.0     234.0        1.50      0.5      2.74   \n",
       "4             238.0     238.0        0.00      0.5      0.45   \n",
       "...             ...       ...         ...      ...       ...   \n",
       "1048570        48.0      50.0        1.00      0.5      1.40   \n",
       "1048571       237.0     166.0        0.00      0.5      3.60   \n",
       "1048572       164.0      90.0        2.35      0.5      1.70   \n",
       "1048573       264.0     264.0        0.00      0.5      1.80   \n",
       "1048574        74.0      74.0        0.00      0.5      0.30   \n",
       "\n",
       "                pickup time           drop time  num passengers  toll amount  \\\n",
       "0       2017-04-04 17:59:43 2017-04-04 18:05:04             1.0          0.0   \n",
       "1       2017-04-03 19:03:34 2017-04-03 19:20:04             1.0          0.0   \n",
       "2       2017-04-03 15:06:13 2017-04-03 15:12:30             2.0          0.0   \n",
       "3       2017-04-04 08:10:52 2017-04-04 08:27:00             1.0          0.0   \n",
       "4       2017-04-05 14:02:59 2017-04-05 14:05:41             6.0          0.0   \n",
       "...                     ...                 ...             ...          ...   \n",
       "1048570 2017-04-06 23:17:09 2017-04-06 23:25:04             1.0          0.0   \n",
       "1048571 2017-04-06 10:58:47 2017-04-06 11:22:04             1.0          0.0   \n",
       "1048572 2017-04-06 22:03:42 2017-04-06 22:17:04             1.0          0.0   \n",
       "1048573 2017-04-06 18:43:22 2017-04-06 18:56:09             4.0          0.0   \n",
       "1048574 2017-04-04 07:45:03 2017-04-04 07:47:49             1.0          0.0   \n",
       "\n",
       "         payment method  rate code  extra charges  improvement charge  \\\n",
       "0                   1.0        1.0            1.0                 0.3   \n",
       "1                   1.0        1.0            1.0                 0.3   \n",
       "2                   1.0        1.0            0.0                 0.3   \n",
       "3                   1.0        1.0            0.0                 0.3   \n",
       "4                   2.0        1.0            0.0                 0.3   \n",
       "...                 ...        ...            ...                 ...   \n",
       "1048570             1.0        1.0            0.5                 0.3   \n",
       "1048571             2.0        1.0            0.0                 0.3   \n",
       "1048572             1.0        1.0            0.5                 0.3   \n",
       "1048573             2.0        1.0            1.0                 0.3   \n",
       "1048574             2.0        1.0            0.0                 0.3   \n",
       "\n",
       "         total amount  pickup day  pickup hr  day_of_week  trip_duration  \\\n",
       "0                9.13           4         17            1       5.350000   \n",
       "1               21.36           3         19            0      16.500000   \n",
       "2                8.80           3         15            0       6.283333   \n",
       "3               14.80           4          8            1      16.133333   \n",
       "4                4.80           5         14            2       2.700000   \n",
       "...               ...         ...        ...          ...            ...   \n",
       "1048570          9.80           6         23            3       7.916667   \n",
       "1048571         18.30           6         10            3      23.283333   \n",
       "1048572         14.15           6         22            3      13.366667   \n",
       "1048573         11.80           6         18            3      12.783333   \n",
       "1048574          4.80           4          7            1       2.766667   \n",
       "\n",
       "         velocity  \n",
       "0        0.130841  \n",
       "1        0.281212  \n",
       "2        0.205305  \n",
       "3        0.169835  \n",
       "4        0.166667  \n",
       "...           ...  \n",
       "1048570  0.176842  \n",
       "1048571  0.154617  \n",
       "1048572  0.127182  \n",
       "1048573  0.140808  \n",
       "1048574  0.108434  \n",
       "\n",
       "[1041713 rows x 19 columns]"
      ]
     },
     "execution_count": 44,
     "metadata": {},
     "output_type": "execute_result"
    }
   ],
   "source": [
    "data['velocity'] = data['distance']/pd.to_numeric(data['trip_duration'])\n",
    "data"
   ]
  },
  {
   "cell_type": "code",
   "execution_count": 45,
   "metadata": {
    "scrolled": true
   },
   "outputs": [
    {
     "data": {
      "text/html": [
       "<div>\n",
       "<style scoped>\n",
       "    .dataframe tbody tr th:only-of-type {\n",
       "        vertical-align: middle;\n",
       "    }\n",
       "\n",
       "    .dataframe tbody tr th {\n",
       "        vertical-align: top;\n",
       "    }\n",
       "\n",
       "    .dataframe thead th {\n",
       "        text-align: right;\n",
       "    }\n",
       "</style>\n",
       "<table border=\"1\" class=\"dataframe\">\n",
       "  <thead>\n",
       "    <tr style=\"text-align: right;\">\n",
       "      <th></th>\n",
       "      <th>pickup loc</th>\n",
       "      <th>drop loc</th>\n",
       "      <th>driver tip</th>\n",
       "      <th>mta tax</th>\n",
       "      <th>distance</th>\n",
       "      <th>pickup time</th>\n",
       "      <th>drop time</th>\n",
       "      <th>num passengers</th>\n",
       "      <th>toll amount</th>\n",
       "      <th>payment method</th>\n",
       "      <th>rate code</th>\n",
       "      <th>extra charges</th>\n",
       "      <th>improvement charge</th>\n",
       "      <th>total amount</th>\n",
       "      <th>pickup day</th>\n",
       "      <th>pickup hr</th>\n",
       "      <th>day_of_week</th>\n",
       "      <th>trip_duration</th>\n",
       "      <th>velocity</th>\n",
       "    </tr>\n",
       "  </thead>\n",
       "  <tbody>\n",
       "    <tr>\n",
       "      <th>441733</th>\n",
       "      <td>236.0</td>\n",
       "      <td>239.0</td>\n",
       "      <td>2.56</td>\n",
       "      <td>0.5</td>\n",
       "      <td>1.37</td>\n",
       "      <td>2017-04-07 12:11:19</td>\n",
       "      <td>2017-04-08 12:09:41</td>\n",
       "      <td>1.0</td>\n",
       "      <td>0.00</td>\n",
       "      <td>1.0</td>\n",
       "      <td>1.0</td>\n",
       "      <td>0.0</td>\n",
       "      <td>0.3</td>\n",
       "      <td>15.36</td>\n",
       "      <td>7</td>\n",
       "      <td>12</td>\n",
       "      <td>4</td>\n",
       "      <td>1438.366667</td>\n",
       "      <td>0.000952</td>\n",
       "    </tr>\n",
       "    <tr>\n",
       "      <th>761983</th>\n",
       "      <td>161.0</td>\n",
       "      <td>234.0</td>\n",
       "      <td>1.66</td>\n",
       "      <td>0.5</td>\n",
       "      <td>1.33</td>\n",
       "      <td>2017-04-06 17:11:09</td>\n",
       "      <td>2017-04-07 17:09:31</td>\n",
       "      <td>1.0</td>\n",
       "      <td>0.00</td>\n",
       "      <td>1.0</td>\n",
       "      <td>1.0</td>\n",
       "      <td>1.0</td>\n",
       "      <td>0.3</td>\n",
       "      <td>9.96</td>\n",
       "      <td>6</td>\n",
       "      <td>17</td>\n",
       "      <td>3</td>\n",
       "      <td>1438.366667</td>\n",
       "      <td>0.000925</td>\n",
       "    </tr>\n",
       "    <tr>\n",
       "      <th>82694</th>\n",
       "      <td>234.0</td>\n",
       "      <td>211.0</td>\n",
       "      <td>0.00</td>\n",
       "      <td>0.5</td>\n",
       "      <td>1.49</td>\n",
       "      <td>2017-04-03 16:55:32</td>\n",
       "      <td>2017-04-04 16:53:54</td>\n",
       "      <td>1.0</td>\n",
       "      <td>0.00</td>\n",
       "      <td>1.0</td>\n",
       "      <td>1.0</td>\n",
       "      <td>1.0</td>\n",
       "      <td>0.3</td>\n",
       "      <td>12.30</td>\n",
       "      <td>3</td>\n",
       "      <td>16</td>\n",
       "      <td>0</td>\n",
       "      <td>1438.366667</td>\n",
       "      <td>0.001036</td>\n",
       "    </tr>\n",
       "    <tr>\n",
       "      <th>597382</th>\n",
       "      <td>164.0</td>\n",
       "      <td>246.0</td>\n",
       "      <td>2.56</td>\n",
       "      <td>0.5</td>\n",
       "      <td>1.42</td>\n",
       "      <td>2017-04-03 17:09:56</td>\n",
       "      <td>2017-04-04 17:08:20</td>\n",
       "      <td>3.0</td>\n",
       "      <td>0.00</td>\n",
       "      <td>1.0</td>\n",
       "      <td>1.0</td>\n",
       "      <td>1.0</td>\n",
       "      <td>0.3</td>\n",
       "      <td>15.36</td>\n",
       "      <td>3</td>\n",
       "      <td>17</td>\n",
       "      <td>0</td>\n",
       "      <td>1438.400000</td>\n",
       "      <td>0.000987</td>\n",
       "    </tr>\n",
       "    <tr>\n",
       "      <th>782005</th>\n",
       "      <td>142.0</td>\n",
       "      <td>143.0</td>\n",
       "      <td>0.53</td>\n",
       "      <td>0.5</td>\n",
       "      <td>0.41</td>\n",
       "      <td>2017-04-07 15:12:53</td>\n",
       "      <td>2017-04-08 15:11:18</td>\n",
       "      <td>1.0</td>\n",
       "      <td>0.00</td>\n",
       "      <td>1.0</td>\n",
       "      <td>1.0</td>\n",
       "      <td>0.0</td>\n",
       "      <td>0.3</td>\n",
       "      <td>5.83</td>\n",
       "      <td>7</td>\n",
       "      <td>15</td>\n",
       "      <td>4</td>\n",
       "      <td>1438.416667</td>\n",
       "      <td>0.000285</td>\n",
       "    </tr>\n",
       "    <tr>\n",
       "      <th>...</th>\n",
       "      <td>...</td>\n",
       "      <td>...</td>\n",
       "      <td>...</td>\n",
       "      <td>...</td>\n",
       "      <td>...</td>\n",
       "      <td>...</td>\n",
       "      <td>...</td>\n",
       "      <td>...</td>\n",
       "      <td>...</td>\n",
       "      <td>...</td>\n",
       "      <td>...</td>\n",
       "      <td>...</td>\n",
       "      <td>...</td>\n",
       "      <td>...</td>\n",
       "      <td>...</td>\n",
       "      <td>...</td>\n",
       "      <td>...</td>\n",
       "      <td>...</td>\n",
       "      <td>...</td>\n",
       "    </tr>\n",
       "    <tr>\n",
       "      <th>249270</th>\n",
       "      <td>246.0</td>\n",
       "      <td>163.0</td>\n",
       "      <td>1.13</td>\n",
       "      <td>0.5</td>\n",
       "      <td>1.78</td>\n",
       "      <td>2017-04-04 16:14:03</td>\n",
       "      <td>2017-04-05 16:13:34</td>\n",
       "      <td>1.0</td>\n",
       "      <td>0.00</td>\n",
       "      <td>1.0</td>\n",
       "      <td>1.0</td>\n",
       "      <td>1.0</td>\n",
       "      <td>0.3</td>\n",
       "      <td>12.43</td>\n",
       "      <td>4</td>\n",
       "      <td>16</td>\n",
       "      <td>1</td>\n",
       "      <td>1439.516667</td>\n",
       "      <td>0.001237</td>\n",
       "    </tr>\n",
       "    <tr>\n",
       "      <th>291479</th>\n",
       "      <td>186.0</td>\n",
       "      <td>88.0</td>\n",
       "      <td>0.00</td>\n",
       "      <td>0.5</td>\n",
       "      <td>4.26</td>\n",
       "      <td>2017-04-07 08:13:01</td>\n",
       "      <td>2017-04-08 08:12:36</td>\n",
       "      <td>2.0</td>\n",
       "      <td>0.00</td>\n",
       "      <td>2.0</td>\n",
       "      <td>1.0</td>\n",
       "      <td>0.0</td>\n",
       "      <td>0.3</td>\n",
       "      <td>17.80</td>\n",
       "      <td>7</td>\n",
       "      <td>8</td>\n",
       "      <td>4</td>\n",
       "      <td>1439.583333</td>\n",
       "      <td>0.002959</td>\n",
       "    </tr>\n",
       "    <tr>\n",
       "      <th>150894</th>\n",
       "      <td>161.0</td>\n",
       "      <td>132.0</td>\n",
       "      <td>0.00</td>\n",
       "      <td>0.5</td>\n",
       "      <td>16.88</td>\n",
       "      <td>2017-04-07 13:24:24</td>\n",
       "      <td>2017-04-08 13:24:02</td>\n",
       "      <td>1.0</td>\n",
       "      <td>0.00</td>\n",
       "      <td>2.0</td>\n",
       "      <td>2.0</td>\n",
       "      <td>0.0</td>\n",
       "      <td>0.3</td>\n",
       "      <td>52.80</td>\n",
       "      <td>7</td>\n",
       "      <td>13</td>\n",
       "      <td>4</td>\n",
       "      <td>1439.633333</td>\n",
       "      <td>0.011725</td>\n",
       "    </tr>\n",
       "    <tr>\n",
       "      <th>936392</th>\n",
       "      <td>261.0</td>\n",
       "      <td>132.0</td>\n",
       "      <td>0.00</td>\n",
       "      <td>0.5</td>\n",
       "      <td>19.99</td>\n",
       "      <td>2017-04-04 08:51:32</td>\n",
       "      <td>2017-04-05 08:51:11</td>\n",
       "      <td>1.0</td>\n",
       "      <td>0.00</td>\n",
       "      <td>2.0</td>\n",
       "      <td>2.0</td>\n",
       "      <td>0.0</td>\n",
       "      <td>0.3</td>\n",
       "      <td>52.80</td>\n",
       "      <td>4</td>\n",
       "      <td>8</td>\n",
       "      <td>1</td>\n",
       "      <td>1439.650000</td>\n",
       "      <td>0.013885</td>\n",
       "    </tr>\n",
       "    <tr>\n",
       "      <th>517843</th>\n",
       "      <td>132.0</td>\n",
       "      <td>42.0</td>\n",
       "      <td>11.71</td>\n",
       "      <td>0.5</td>\n",
       "      <td>22.44</td>\n",
       "      <td>2017-04-03 08:12:10</td>\n",
       "      <td>2017-04-04 08:11:56</td>\n",
       "      <td>2.0</td>\n",
       "      <td>5.76</td>\n",
       "      <td>1.0</td>\n",
       "      <td>2.0</td>\n",
       "      <td>0.0</td>\n",
       "      <td>0.3</td>\n",
       "      <td>70.27</td>\n",
       "      <td>3</td>\n",
       "      <td>8</td>\n",
       "      <td>0</td>\n",
       "      <td>1439.766667</td>\n",
       "      <td>0.015586</td>\n",
       "    </tr>\n",
       "  </tbody>\n",
       "</table>\n",
       "<p>100 rows × 19 columns</p>\n",
       "</div>"
      ],
      "text/plain": [
       "        pickup loc  drop loc  driver tip  mta tax  distance  \\\n",
       "441733       236.0     239.0        2.56      0.5      1.37   \n",
       "761983       161.0     234.0        1.66      0.5      1.33   \n",
       "82694        234.0     211.0        0.00      0.5      1.49   \n",
       "597382       164.0     246.0        2.56      0.5      1.42   \n",
       "782005       142.0     143.0        0.53      0.5      0.41   \n",
       "...            ...       ...         ...      ...       ...   \n",
       "249270       246.0     163.0        1.13      0.5      1.78   \n",
       "291479       186.0      88.0        0.00      0.5      4.26   \n",
       "150894       161.0     132.0        0.00      0.5     16.88   \n",
       "936392       261.0     132.0        0.00      0.5     19.99   \n",
       "517843       132.0      42.0       11.71      0.5     22.44   \n",
       "\n",
       "               pickup time           drop time  num passengers  toll amount  \\\n",
       "441733 2017-04-07 12:11:19 2017-04-08 12:09:41             1.0         0.00   \n",
       "761983 2017-04-06 17:11:09 2017-04-07 17:09:31             1.0         0.00   \n",
       "82694  2017-04-03 16:55:32 2017-04-04 16:53:54             1.0         0.00   \n",
       "597382 2017-04-03 17:09:56 2017-04-04 17:08:20             3.0         0.00   \n",
       "782005 2017-04-07 15:12:53 2017-04-08 15:11:18             1.0         0.00   \n",
       "...                    ...                 ...             ...          ...   \n",
       "249270 2017-04-04 16:14:03 2017-04-05 16:13:34             1.0         0.00   \n",
       "291479 2017-04-07 08:13:01 2017-04-08 08:12:36             2.0         0.00   \n",
       "150894 2017-04-07 13:24:24 2017-04-08 13:24:02             1.0         0.00   \n",
       "936392 2017-04-04 08:51:32 2017-04-05 08:51:11             1.0         0.00   \n",
       "517843 2017-04-03 08:12:10 2017-04-04 08:11:56             2.0         5.76   \n",
       "\n",
       "        payment method  rate code  extra charges  improvement charge  \\\n",
       "441733             1.0        1.0            0.0                 0.3   \n",
       "761983             1.0        1.0            1.0                 0.3   \n",
       "82694              1.0        1.0            1.0                 0.3   \n",
       "597382             1.0        1.0            1.0                 0.3   \n",
       "782005             1.0        1.0            0.0                 0.3   \n",
       "...                ...        ...            ...                 ...   \n",
       "249270             1.0        1.0            1.0                 0.3   \n",
       "291479             2.0        1.0            0.0                 0.3   \n",
       "150894             2.0        2.0            0.0                 0.3   \n",
       "936392             2.0        2.0            0.0                 0.3   \n",
       "517843             1.0        2.0            0.0                 0.3   \n",
       "\n",
       "        total amount  pickup day  pickup hr  day_of_week  trip_duration  \\\n",
       "441733         15.36           7         12            4    1438.366667   \n",
       "761983          9.96           6         17            3    1438.366667   \n",
       "82694          12.30           3         16            0    1438.366667   \n",
       "597382         15.36           3         17            0    1438.400000   \n",
       "782005          5.83           7         15            4    1438.416667   \n",
       "...              ...         ...        ...          ...            ...   \n",
       "249270         12.43           4         16            1    1439.516667   \n",
       "291479         17.80           7          8            4    1439.583333   \n",
       "150894         52.80           7         13            4    1439.633333   \n",
       "936392         52.80           4          8            1    1439.650000   \n",
       "517843         70.27           3          8            0    1439.766667   \n",
       "\n",
       "        velocity  \n",
       "441733  0.000952  \n",
       "761983  0.000925  \n",
       "82694   0.001036  \n",
       "597382  0.000987  \n",
       "782005  0.000285  \n",
       "...          ...  \n",
       "249270  0.001237  \n",
       "291479  0.002959  \n",
       "150894  0.011725  \n",
       "936392  0.013885  \n",
       "517843  0.015586  \n",
       "\n",
       "[100 rows x 19 columns]"
      ]
     },
     "execution_count": 45,
     "metadata": {},
     "output_type": "execute_result"
    }
   ],
   "source": [
    "data.sort_values(by='trip_duration')[-100:]"
   ]
  },
  {
   "cell_type": "markdown",
   "metadata": {},
   "source": [
    "We see that few trips have velocity less than 0.0001 this means that there is some error in recording the trip duration or the distance. We will remove such entries."
   ]
  },
  {
   "cell_type": "code",
   "execution_count": 46,
   "metadata": {},
   "outputs": [
    {
     "data": {
      "text/plain": [
       "(1039850, 19)"
      ]
     },
     "execution_count": 46,
     "metadata": {},
     "output_type": "execute_result"
    }
   ],
   "source": [
    "#1041306\n",
    "clean_data = data.drop(data[data['velocity']<=0.009].index)\n",
    "clean_data.dropna(inplace=True)\n",
    "clean_data.shape"
   ]
  },
  {
   "cell_type": "code",
   "execution_count": 47,
   "metadata": {},
   "outputs": [
    {
     "name": "stdout",
     "output_type": "stream",
     "text": [
      "remaining % data is  99.86017558719531\n"
     ]
    }
   ],
   "source": [
    "print('remaining % data is ', clean_data.shape[0]*100/1041306)"
   ]
  },
  {
   "cell_type": "code",
   "execution_count": 48,
   "metadata": {
    "scrolled": true
   },
   "outputs": [
    {
     "name": "stdout",
     "output_type": "stream",
     "text": [
      "<class 'pandas.core.frame.DataFrame'>\n",
      "Int64Index: 1039850 entries, 0 to 1048574\n",
      "Data columns (total 19 columns):\n",
      " #   Column              Non-Null Count    Dtype         \n",
      "---  ------              --------------    -----         \n",
      " 0   pickup loc          1039850 non-null  float64       \n",
      " 1   drop loc            1039850 non-null  float64       \n",
      " 2   driver tip          1039850 non-null  float64       \n",
      " 3   mta tax             1039850 non-null  float64       \n",
      " 4   distance            1039850 non-null  float64       \n",
      " 5   pickup time         1039850 non-null  datetime64[ns]\n",
      " 6   drop time           1039850 non-null  datetime64[ns]\n",
      " 7   num passengers      1039850 non-null  float64       \n",
      " 8   toll amount         1039850 non-null  float64       \n",
      " 9   payment method      1039850 non-null  float64       \n",
      " 10  rate code           1039850 non-null  float64       \n",
      " 11  extra charges       1039850 non-null  float64       \n",
      " 12  improvement charge  1039850 non-null  float64       \n",
      " 13  total amount        1039850 non-null  float64       \n",
      " 14  pickup day          1039850 non-null  int64         \n",
      " 15  pickup hr           1039850 non-null  int64         \n",
      " 16  day_of_week         1039850 non-null  int64         \n",
      " 17  trip_duration       1039850 non-null  float64       \n",
      " 18  velocity            1039850 non-null  float64       \n",
      "dtypes: datetime64[ns](2), float64(14), int64(3)\n",
      "memory usage: 158.7 MB\n"
     ]
    }
   ],
   "source": [
    "clean_data.info()"
   ]
  },
  {
   "cell_type": "code",
   "execution_count": 49,
   "metadata": {},
   "outputs": [],
   "source": [
    "# fucntion to convert hour of day to time of day.\n",
    "# early morning = 5-8 morning = 9-11 afternoon = 12-15 evening = 16-19 night = 20-23 late night = 0-4\n",
    "def convert_hr_time(hr):\n",
    "    if hr in range(5,9):\n",
    "        return 0\n",
    "    if hr in range(9,12):\n",
    "        return 1\n",
    "    if hr in range(12,16):\n",
    "        return 2\n",
    "    if hr in range(16,20):\n",
    "        return 3\n",
    "    if hr in range(20,24):\n",
    "        return 4\n",
    "    if hr in range(0,5):\n",
    "        return 5"
   ]
  },
  {
   "cell_type": "code",
   "execution_count": 50,
   "metadata": {},
   "outputs": [],
   "source": [
    "clean_data.drop(['pickup loc','drop loc','pickup time','drop time','pickup day','day_of_week'], axis=1, inplace=True)\n"
   ]
  },
  {
   "cell_type": "code",
   "execution_count": 51,
   "metadata": {},
   "outputs": [],
   "source": [
    "clean_data['time_of_day'] = clean_data['pickup hr'].apply(convert_hr_time)"
   ]
  },
  {
   "cell_type": "code",
   "execution_count": 52,
   "metadata": {},
   "outputs": [
    {
     "data": {
      "text/html": [
       "<div>\n",
       "<style scoped>\n",
       "    .dataframe tbody tr th:only-of-type {\n",
       "        vertical-align: middle;\n",
       "    }\n",
       "\n",
       "    .dataframe tbody tr th {\n",
       "        vertical-align: top;\n",
       "    }\n",
       "\n",
       "    .dataframe thead th {\n",
       "        text-align: right;\n",
       "    }\n",
       "</style>\n",
       "<table border=\"1\" class=\"dataframe\">\n",
       "  <thead>\n",
       "    <tr style=\"text-align: right;\">\n",
       "      <th></th>\n",
       "      <th>driver tip</th>\n",
       "      <th>mta tax</th>\n",
       "      <th>distance</th>\n",
       "      <th>num passengers</th>\n",
       "      <th>toll amount</th>\n",
       "      <th>payment method</th>\n",
       "      <th>rate code</th>\n",
       "      <th>extra charges</th>\n",
       "      <th>improvement charge</th>\n",
       "      <th>total amount</th>\n",
       "      <th>pickup hr</th>\n",
       "      <th>trip_duration</th>\n",
       "      <th>velocity</th>\n",
       "      <th>time_of_day</th>\n",
       "    </tr>\n",
       "  </thead>\n",
       "  <tbody>\n",
       "    <tr>\n",
       "      <th>0</th>\n",
       "      <td>1.83</td>\n",
       "      <td>0.5</td>\n",
       "      <td>0.70</td>\n",
       "      <td>1.0</td>\n",
       "      <td>0.0</td>\n",
       "      <td>1.0</td>\n",
       "      <td>1.0</td>\n",
       "      <td>1.0</td>\n",
       "      <td>0.3</td>\n",
       "      <td>9.13</td>\n",
       "      <td>17</td>\n",
       "      <td>5.350000</td>\n",
       "      <td>0.130841</td>\n",
       "      <td>3</td>\n",
       "    </tr>\n",
       "    <tr>\n",
       "      <th>1</th>\n",
       "      <td>3.56</td>\n",
       "      <td>0.5</td>\n",
       "      <td>4.64</td>\n",
       "      <td>1.0</td>\n",
       "      <td>0.0</td>\n",
       "      <td>1.0</td>\n",
       "      <td>1.0</td>\n",
       "      <td>1.0</td>\n",
       "      <td>0.3</td>\n",
       "      <td>21.36</td>\n",
       "      <td>19</td>\n",
       "      <td>16.500000</td>\n",
       "      <td>0.281212</td>\n",
       "      <td>3</td>\n",
       "    </tr>\n",
       "    <tr>\n",
       "      <th>2</th>\n",
       "      <td>1.50</td>\n",
       "      <td>0.5</td>\n",
       "      <td>1.29</td>\n",
       "      <td>2.0</td>\n",
       "      <td>0.0</td>\n",
       "      <td>1.0</td>\n",
       "      <td>1.0</td>\n",
       "      <td>0.0</td>\n",
       "      <td>0.3</td>\n",
       "      <td>8.80</td>\n",
       "      <td>15</td>\n",
       "      <td>6.283333</td>\n",
       "      <td>0.205305</td>\n",
       "      <td>2</td>\n",
       "    </tr>\n",
       "    <tr>\n",
       "      <th>3</th>\n",
       "      <td>1.50</td>\n",
       "      <td>0.5</td>\n",
       "      <td>2.74</td>\n",
       "      <td>1.0</td>\n",
       "      <td>0.0</td>\n",
       "      <td>1.0</td>\n",
       "      <td>1.0</td>\n",
       "      <td>0.0</td>\n",
       "      <td>0.3</td>\n",
       "      <td>14.80</td>\n",
       "      <td>8</td>\n",
       "      <td>16.133333</td>\n",
       "      <td>0.169835</td>\n",
       "      <td>0</td>\n",
       "    </tr>\n",
       "    <tr>\n",
       "      <th>4</th>\n",
       "      <td>0.00</td>\n",
       "      <td>0.5</td>\n",
       "      <td>0.45</td>\n",
       "      <td>6.0</td>\n",
       "      <td>0.0</td>\n",
       "      <td>2.0</td>\n",
       "      <td>1.0</td>\n",
       "      <td>0.0</td>\n",
       "      <td>0.3</td>\n",
       "      <td>4.80</td>\n",
       "      <td>14</td>\n",
       "      <td>2.700000</td>\n",
       "      <td>0.166667</td>\n",
       "      <td>2</td>\n",
       "    </tr>\n",
       "    <tr>\n",
       "      <th>...</th>\n",
       "      <td>...</td>\n",
       "      <td>...</td>\n",
       "      <td>...</td>\n",
       "      <td>...</td>\n",
       "      <td>...</td>\n",
       "      <td>...</td>\n",
       "      <td>...</td>\n",
       "      <td>...</td>\n",
       "      <td>...</td>\n",
       "      <td>...</td>\n",
       "      <td>...</td>\n",
       "      <td>...</td>\n",
       "      <td>...</td>\n",
       "      <td>...</td>\n",
       "    </tr>\n",
       "    <tr>\n",
       "      <th>1048570</th>\n",
       "      <td>1.00</td>\n",
       "      <td>0.5</td>\n",
       "      <td>1.40</td>\n",
       "      <td>1.0</td>\n",
       "      <td>0.0</td>\n",
       "      <td>1.0</td>\n",
       "      <td>1.0</td>\n",
       "      <td>0.5</td>\n",
       "      <td>0.3</td>\n",
       "      <td>9.80</td>\n",
       "      <td>23</td>\n",
       "      <td>7.916667</td>\n",
       "      <td>0.176842</td>\n",
       "      <td>4</td>\n",
       "    </tr>\n",
       "    <tr>\n",
       "      <th>1048571</th>\n",
       "      <td>0.00</td>\n",
       "      <td>0.5</td>\n",
       "      <td>3.60</td>\n",
       "      <td>1.0</td>\n",
       "      <td>0.0</td>\n",
       "      <td>2.0</td>\n",
       "      <td>1.0</td>\n",
       "      <td>0.0</td>\n",
       "      <td>0.3</td>\n",
       "      <td>18.30</td>\n",
       "      <td>10</td>\n",
       "      <td>23.283333</td>\n",
       "      <td>0.154617</td>\n",
       "      <td>1</td>\n",
       "    </tr>\n",
       "    <tr>\n",
       "      <th>1048572</th>\n",
       "      <td>2.35</td>\n",
       "      <td>0.5</td>\n",
       "      <td>1.70</td>\n",
       "      <td>1.0</td>\n",
       "      <td>0.0</td>\n",
       "      <td>1.0</td>\n",
       "      <td>1.0</td>\n",
       "      <td>0.5</td>\n",
       "      <td>0.3</td>\n",
       "      <td>14.15</td>\n",
       "      <td>22</td>\n",
       "      <td>13.366667</td>\n",
       "      <td>0.127182</td>\n",
       "      <td>4</td>\n",
       "    </tr>\n",
       "    <tr>\n",
       "      <th>1048573</th>\n",
       "      <td>0.00</td>\n",
       "      <td>0.5</td>\n",
       "      <td>1.80</td>\n",
       "      <td>4.0</td>\n",
       "      <td>0.0</td>\n",
       "      <td>2.0</td>\n",
       "      <td>1.0</td>\n",
       "      <td>1.0</td>\n",
       "      <td>0.3</td>\n",
       "      <td>11.80</td>\n",
       "      <td>18</td>\n",
       "      <td>12.783333</td>\n",
       "      <td>0.140808</td>\n",
       "      <td>3</td>\n",
       "    </tr>\n",
       "    <tr>\n",
       "      <th>1048574</th>\n",
       "      <td>0.00</td>\n",
       "      <td>0.5</td>\n",
       "      <td>0.30</td>\n",
       "      <td>1.0</td>\n",
       "      <td>0.0</td>\n",
       "      <td>2.0</td>\n",
       "      <td>1.0</td>\n",
       "      <td>0.0</td>\n",
       "      <td>0.3</td>\n",
       "      <td>4.80</td>\n",
       "      <td>7</td>\n",
       "      <td>2.766667</td>\n",
       "      <td>0.108434</td>\n",
       "      <td>0</td>\n",
       "    </tr>\n",
       "  </tbody>\n",
       "</table>\n",
       "<p>1039850 rows × 14 columns</p>\n",
       "</div>"
      ],
      "text/plain": [
       "         driver tip  mta tax  distance  num passengers  toll amount  \\\n",
       "0              1.83      0.5      0.70             1.0          0.0   \n",
       "1              3.56      0.5      4.64             1.0          0.0   \n",
       "2              1.50      0.5      1.29             2.0          0.0   \n",
       "3              1.50      0.5      2.74             1.0          0.0   \n",
       "4              0.00      0.5      0.45             6.0          0.0   \n",
       "...             ...      ...       ...             ...          ...   \n",
       "1048570        1.00      0.5      1.40             1.0          0.0   \n",
       "1048571        0.00      0.5      3.60             1.0          0.0   \n",
       "1048572        2.35      0.5      1.70             1.0          0.0   \n",
       "1048573        0.00      0.5      1.80             4.0          0.0   \n",
       "1048574        0.00      0.5      0.30             1.0          0.0   \n",
       "\n",
       "         payment method  rate code  extra charges  improvement charge  \\\n",
       "0                   1.0        1.0            1.0                 0.3   \n",
       "1                   1.0        1.0            1.0                 0.3   \n",
       "2                   1.0        1.0            0.0                 0.3   \n",
       "3                   1.0        1.0            0.0                 0.3   \n",
       "4                   2.0        1.0            0.0                 0.3   \n",
       "...                 ...        ...            ...                 ...   \n",
       "1048570             1.0        1.0            0.5                 0.3   \n",
       "1048571             2.0        1.0            0.0                 0.3   \n",
       "1048572             1.0        1.0            0.5                 0.3   \n",
       "1048573             2.0        1.0            1.0                 0.3   \n",
       "1048574             2.0        1.0            0.0                 0.3   \n",
       "\n",
       "         total amount  pickup hr  trip_duration  velocity  time_of_day  \n",
       "0                9.13         17       5.350000  0.130841            3  \n",
       "1               21.36         19      16.500000  0.281212            3  \n",
       "2                8.80         15       6.283333  0.205305            2  \n",
       "3               14.80          8      16.133333  0.169835            0  \n",
       "4                4.80         14       2.700000  0.166667            2  \n",
       "...               ...        ...            ...       ...          ...  \n",
       "1048570          9.80         23       7.916667  0.176842            4  \n",
       "1048571         18.30         10      23.283333  0.154617            1  \n",
       "1048572         14.15         22      13.366667  0.127182            4  \n",
       "1048573         11.80         18      12.783333  0.140808            3  \n",
       "1048574          4.80          7       2.766667  0.108434            0  \n",
       "\n",
       "[1039850 rows x 14 columns]"
      ]
     },
     "execution_count": 52,
     "metadata": {},
     "output_type": "execute_result"
    }
   ],
   "source": [
    "clean_data"
   ]
  },
  {
   "cell_type": "code",
   "execution_count": 53,
   "metadata": {},
   "outputs": [
    {
     "name": "stderr",
     "output_type": "stream",
     "text": [
      "C:\\Users\\admin\\Anaconda3\\lib\\site-packages\\matplotlib\\cbook\\__init__.py:2064: FutureWarning: Support for multi-dimensional indexing (e.g. `obj[:, None]`) is deprecated and will be removed in a future version.  Convert to a numpy array before indexing instead.\n",
      "  x[:, None]\n",
      "C:\\Users\\admin\\Anaconda3\\lib\\site-packages\\matplotlib\\axes\\_base.py:248: FutureWarning: Support for multi-dimensional indexing (e.g. `obj[:, None]`) is deprecated and will be removed in a future version.  Convert to a numpy array before indexing instead.\n",
      "  x = x[:, np.newaxis]\n",
      "C:\\Users\\admin\\Anaconda3\\lib\\site-packages\\matplotlib\\axes\\_base.py:250: FutureWarning: Support for multi-dimensional indexing (e.g. `obj[:, None]`) is deprecated and will be removed in a future version.  Convert to a numpy array before indexing instead.\n",
      "  y = y[:, np.newaxis]\n"
     ]
    },
    {
     "data": {
      "text/plain": [
       "<matplotlib.axes._subplots.AxesSubplot at 0x27983f7a358>"
      ]
     },
     "execution_count": 53,
     "metadata": {},
     "output_type": "execute_result"
    },
    {
     "data": {
      "image/png": "[encoded data removed]",
      "text/plain": [
       "<Figure size 432x288 with 1 Axes>"
      ]
     },
     "metadata": {
      "needs_background": "light"
     },
     "output_type": "display_data"
    }
   ],
   "source": [
    "sns.kdeplot(clean_data['distance'].values)"
   ]
  },
  {
   "cell_type": "code",
   "execution_count": 54,
   "metadata": {},
   "outputs": [],
   "source": [
    "# Function to indicate the trip length.\n",
    "def trip_length(distance):\n",
    "    if distance<=30:\n",
    "        return 0\n",
    "    if distance>30 and distance<=50:\n",
    "        return 1\n",
    "    if distance>50:\n",
    "        return 2"
   ]
  },
  {
   "cell_type": "code",
   "execution_count": 55,
   "metadata": {},
   "outputs": [],
   "source": [
    "clean_data['trip_length'] = clean_data['distance'].apply(trip_length)"
   ]
  },
  {
   "cell_type": "code",
   "execution_count": 56,
   "metadata": {},
   "outputs": [
    {
     "data": {
      "text/html": [
       "<div>\n",
       "<style scoped>\n",
       "    .dataframe tbody tr th:only-of-type {\n",
       "        vertical-align: middle;\n",
       "    }\n",
       "\n",
       "    .dataframe tbody tr th {\n",
       "        vertical-align: top;\n",
       "    }\n",
       "\n",
       "    .dataframe thead th {\n",
       "        text-align: right;\n",
       "    }\n",
       "</style>\n",
       "<table border=\"1\" class=\"dataframe\">\n",
       "  <thead>\n",
       "    <tr style=\"text-align: right;\">\n",
       "      <th></th>\n",
       "      <th>driver tip</th>\n",
       "      <th>mta tax</th>\n",
       "      <th>distance</th>\n",
       "      <th>num passengers</th>\n",
       "      <th>toll amount</th>\n",
       "      <th>payment method</th>\n",
       "      <th>rate code</th>\n",
       "      <th>extra charges</th>\n",
       "      <th>improvement charge</th>\n",
       "      <th>total amount</th>\n",
       "      <th>pickup hr</th>\n",
       "      <th>trip_duration</th>\n",
       "      <th>velocity</th>\n",
       "      <th>time_of_day</th>\n",
       "      <th>trip_length</th>\n",
       "    </tr>\n",
       "  </thead>\n",
       "  <tbody>\n",
       "    <tr>\n",
       "      <th>0</th>\n",
       "      <td>1.83</td>\n",
       "      <td>0.5</td>\n",
       "      <td>0.70</td>\n",
       "      <td>1.0</td>\n",
       "      <td>0.0</td>\n",
       "      <td>1.0</td>\n",
       "      <td>1.0</td>\n",
       "      <td>1.0</td>\n",
       "      <td>0.3</td>\n",
       "      <td>9.13</td>\n",
       "      <td>17</td>\n",
       "      <td>5.350000</td>\n",
       "      <td>0.130841</td>\n",
       "      <td>3</td>\n",
       "      <td>0</td>\n",
       "    </tr>\n",
       "    <tr>\n",
       "      <th>1</th>\n",
       "      <td>3.56</td>\n",
       "      <td>0.5</td>\n",
       "      <td>4.64</td>\n",
       "      <td>1.0</td>\n",
       "      <td>0.0</td>\n",
       "      <td>1.0</td>\n",
       "      <td>1.0</td>\n",
       "      <td>1.0</td>\n",
       "      <td>0.3</td>\n",
       "      <td>21.36</td>\n",
       "      <td>19</td>\n",
       "      <td>16.500000</td>\n",
       "      <td>0.281212</td>\n",
       "      <td>3</td>\n",
       "      <td>0</td>\n",
       "    </tr>\n",
       "    <tr>\n",
       "      <th>2</th>\n",
       "      <td>1.50</td>\n",
       "      <td>0.5</td>\n",
       "      <td>1.29</td>\n",
       "      <td>2.0</td>\n",
       "      <td>0.0</td>\n",
       "      <td>1.0</td>\n",
       "      <td>1.0</td>\n",
       "      <td>0.0</td>\n",
       "      <td>0.3</td>\n",
       "      <td>8.80</td>\n",
       "      <td>15</td>\n",
       "      <td>6.283333</td>\n",
       "      <td>0.205305</td>\n",
       "      <td>2</td>\n",
       "      <td>0</td>\n",
       "    </tr>\n",
       "    <tr>\n",
       "      <th>3</th>\n",
       "      <td>1.50</td>\n",
       "      <td>0.5</td>\n",
       "      <td>2.74</td>\n",
       "      <td>1.0</td>\n",
       "      <td>0.0</td>\n",
       "      <td>1.0</td>\n",
       "      <td>1.0</td>\n",
       "      <td>0.0</td>\n",
       "      <td>0.3</td>\n",
       "      <td>14.80</td>\n",
       "      <td>8</td>\n",
       "      <td>16.133333</td>\n",
       "      <td>0.169835</td>\n",
       "      <td>0</td>\n",
       "      <td>0</td>\n",
       "    </tr>\n",
       "    <tr>\n",
       "      <th>4</th>\n",
       "      <td>0.00</td>\n",
       "      <td>0.5</td>\n",
       "      <td>0.45</td>\n",
       "      <td>6.0</td>\n",
       "      <td>0.0</td>\n",
       "      <td>2.0</td>\n",
       "      <td>1.0</td>\n",
       "      <td>0.0</td>\n",
       "      <td>0.3</td>\n",
       "      <td>4.80</td>\n",
       "      <td>14</td>\n",
       "      <td>2.700000</td>\n",
       "      <td>0.166667</td>\n",
       "      <td>2</td>\n",
       "      <td>0</td>\n",
       "    </tr>\n",
       "  </tbody>\n",
       "</table>\n",
       "</div>"
      ],
      "text/plain": [
       "   driver tip  mta tax  distance  num passengers  toll amount  payment method  \\\n",
       "0        1.83      0.5      0.70             1.0          0.0             1.0   \n",
       "1        3.56      0.5      4.64             1.0          0.0             1.0   \n",
       "2        1.50      0.5      1.29             2.0          0.0             1.0   \n",
       "3        1.50      0.5      2.74             1.0          0.0             1.0   \n",
       "4        0.00      0.5      0.45             6.0          0.0             2.0   \n",
       "\n",
       "   rate code  extra charges  improvement charge  total amount  pickup hr  \\\n",
       "0        1.0            1.0                 0.3          9.13         17   \n",
       "1        1.0            1.0                 0.3         21.36         19   \n",
       "2        1.0            0.0                 0.3          8.80         15   \n",
       "3        1.0            0.0                 0.3         14.80          8   \n",
       "4        1.0            0.0                 0.3          4.80         14   \n",
       "\n",
       "   trip_duration  velocity  time_of_day  trip_length  \n",
       "0       5.350000  0.130841            3            0  \n",
       "1      16.500000  0.281212            3            0  \n",
       "2       6.283333  0.205305            2            0  \n",
       "3      16.133333  0.169835            0            0  \n",
       "4       2.700000  0.166667            2            0  "
      ]
     },
     "execution_count": 56,
     "metadata": {},
     "output_type": "execute_result"
    }
   ],
   "source": [
    "clean_data.head()"
   ]
  },
  {
   "cell_type": "code",
   "execution_count": 57,
   "metadata": {},
   "outputs": [
    {
     "data": {
      "text/plain": [
       "0    1039385\n",
       "1        425\n",
       "2         40\n",
       "Name: trip_length, dtype: int64"
      ]
     },
     "execution_count": 57,
     "metadata": {},
     "output_type": "execute_result"
    }
   ],
   "source": [
    "clean_data['trip_length'].value_counts()"
   ]
  },
  {
   "cell_type": "code",
   "execution_count": 58,
   "metadata": {},
   "outputs": [
    {
     "data": {
      "text/plain": [
       "(25, 15)"
      ]
     },
     "execution_count": 58,
     "metadata": {},
     "output_type": "execute_result"
    }
   ],
   "source": [
    "# There are some trips that have same pickup time and drop time. Thus our trip duration becomes 0. But still there is data for\n",
    "# distance. We can replace the velocity with the avg velocity and then calulate the missing duration.\n",
    "clean_data.loc[clean_data['trip_duration']==0].shape"
   ]
  },
  {
   "cell_type": "code",
   "execution_count": 59,
   "metadata": {},
   "outputs": [
    {
     "name": "stdout",
     "output_type": "stream",
     "text": [
      "Avg velocity is  0.21483865294908322\n"
     ]
    },
    {
     "data": {
      "text/plain": [
       "43267     0.214839\n",
       "45891     0.214839\n",
       "140704    0.214839\n",
       "141091    0.214839\n",
       "249970    0.214839\n",
       "275898    0.214839\n",
       "285491    0.214839\n",
       "316135    0.214839\n",
       "352551    0.214839\n",
       "364873    0.214839\n",
       "387463    0.214839\n",
       "422041    0.214839\n",
       "526351    0.214839\n",
       "581925    0.214839\n",
       "623193    0.214839\n",
       "646750    0.214839\n",
       "751885    0.214839\n",
       "804720    0.214839\n",
       "807758    0.214839\n",
       "866840    0.214839\n",
       "871512    0.214839\n",
       "909735    0.214839\n",
       "920695    0.214839\n",
       "952393    0.214839\n",
       "999088    0.214839\n",
       "Name: velocity, dtype: float64"
      ]
     },
     "execution_count": 59,
     "metadata": {},
     "output_type": "execute_result"
    }
   ],
   "source": [
    "# Find average velocity and use it to replace inf values.\n",
    "avg_velocity = clean_data['velocity'].loc[clean_data['trip_duration']!=0].mean()\n",
    "print('Avg velocity is ',avg_velocity)\n",
    "clean_data['velocity'].loc[clean_data['trip_duration']==0].replace(np.inf, avg_velocity)"
   ]
  },
  {
   "cell_type": "code",
   "execution_count": 60,
   "metadata": {},
   "outputs": [
    {
     "name": "stderr",
     "output_type": "stream",
     "text": [
      "C:\\Users\\admin\\Anaconda3\\lib\\site-packages\\pandas\\core\\indexing.py:670: SettingWithCopyWarning: \n",
      "A value is trying to be set on a copy of a slice from a DataFrame\n",
      "\n",
      "See the caveats in the documentation: https://pandas.pydata.org/pandas-docs/stable/user_guide/indexing.html#returning-a-view-versus-a-copy\n",
      "  iloc._setitem_with_indexer(indexer, value)\n"
     ]
    }
   ],
   "source": [
    "# Find the trip duration using the distance and velocity.\n",
    "clean_data['trip_duration'].loc[clean_data['trip_duration']==0] = clean_data['distance'].loc[clean_data['trip_duration']==0]/clean_data['velocity'].loc[clean_data['trip_duration']==0]"
   ]
  },
  {
   "cell_type": "code",
   "execution_count": 61,
   "metadata": {},
   "outputs": [
    {
     "name": "stdout",
     "output_type": "stream",
     "text": [
      "<class 'pandas.core.frame.DataFrame'>\n",
      "Int64Index: 1039850 entries, 0 to 1048574\n",
      "Data columns (total 15 columns):\n",
      " #   Column              Non-Null Count    Dtype  \n",
      "---  ------              --------------    -----  \n",
      " 0   driver tip          1039850 non-null  float64\n",
      " 1   mta tax             1039850 non-null  float64\n",
      " 2   distance            1039850 non-null  float64\n",
      " 3   num passengers      1039850 non-null  float64\n",
      " 4   toll amount         1039850 non-null  float64\n",
      " 5   payment method      1039850 non-null  float64\n",
      " 6   rate code           1039850 non-null  float64\n",
      " 7   extra charges       1039850 non-null  float64\n",
      " 8   improvement charge  1039850 non-null  float64\n",
      " 9   total amount        1039850 non-null  float64\n",
      " 10  pickup hr           1039850 non-null  int64  \n",
      " 11  trip_duration       1039850 non-null  float64\n",
      " 12  velocity            1039850 non-null  float64\n",
      " 13  time_of_day         1039850 non-null  int64  \n",
      " 14  trip_length         1039850 non-null  int64  \n",
      "dtypes: float64(12), int64(3)\n",
      "memory usage: 126.9 MB\n"
     ]
    }
   ],
   "source": [
    "clean_data.info()"
   ]
  },
  {
   "cell_type": "code",
   "execution_count": 72,
   "metadata": {},
   "outputs": [
    {
     "data": {
      "text/plain": [
       "Series([], Name: velocity, dtype: float64)"
      ]
     },
     "execution_count": 72,
     "metadata": {},
     "output_type": "execute_result"
    }
   ],
   "source": [
    "data['velocity'].loc[np.isinf(data.velocity)]"
   ]
  },
  {
   "cell_type": "code",
   "execution_count": 73,
   "metadata": {},
   "outputs": [
    {
     "name": "stderr",
     "output_type": "stream",
     "text": [
      "C:\\Users\\admin\\Anaconda3\\lib\\site-packages\\pandas\\core\\indexing.py:670: SettingWithCopyWarning: \n",
      "A value is trying to be set on a copy of a slice from a DataFrame\n",
      "\n",
      "See the caveats in the documentation: https://pandas.pydata.org/pandas-docs/stable/user_guide/indexing.html#returning-a-view-versus-a-copy\n",
      "  iloc._setitem_with_indexer(indexer, value)\n",
      "C:\\Users\\admin\\Anaconda3\\lib\\site-packages\\pandas\\core\\indexing.py:670: SettingWithCopyWarning: \n",
      "A value is trying to be set on a copy of a slice from a DataFrame\n",
      "\n",
      "See the caveats in the documentation: https://pandas.pydata.org/pandas-docs/stable/user_guide/indexing.html#returning-a-view-versus-a-copy\n",
      "  iloc._setitem_with_indexer(indexer, value)\n"
     ]
    }
   ],
   "source": [
    "clean_data['velocity'].loc[clean_data.velocity==np.inf] = avg_velocity\n",
    "clean_data['trip_duration'].loc[clean_data.trip_duration==0] = clean_data['velocity'].loc[clean_data.trip_duration==0]/clean_data['distance'].loc[clean_data.trip_duration==0]\n"
   ]
  },
  {
   "cell_type": "code",
   "execution_count": 74,
   "metadata": {
    "scrolled": true
   },
   "outputs": [
    {
     "data": {
      "text/plain": [
       "False    1039850\n",
       "Name: velocity, dtype: int64"
      ]
     },
     "execution_count": 74,
     "metadata": {},
     "output_type": "execute_result"
    }
   ],
   "source": [
    "np.isinf(clean_data['velocity']).value_counts()"
   ]
  },
  {
   "cell_type": "code",
   "execution_count": 75,
   "metadata": {},
   "outputs": [],
   "source": [
    "from sklearn.model_selection import train_test_split\n",
    "X = clean_data.drop('total amount', axis=1)\n",
    "Y = clean_data['total amount']\n",
    "x_train, x_cv, y_train, y_cv = train_test_split(X,Y, test_size=0.2, random_state=42)"
   ]
  },
  {
   "cell_type": "markdown",
   "metadata": {},
   "source": [
    "# Models"
   ]
  },
  {
   "cell_type": "markdown",
   "metadata": {},
   "source": [
    "### Metric = RMSE"
   ]
  },
  {
   "cell_type": "code",
   "execution_count": 76,
   "metadata": {},
   "outputs": [],
   "source": [
    "from sklearn.model_selection import GridSearchCV\n",
    "from sklearn.metrics import mean_squared_error"
   ]
  },
  {
   "cell_type": "markdown",
   "metadata": {},
   "source": [
    "### Random Forest Regression"
   ]
  },
  {
   "cell_type": "code",
   "execution_count": 77,
   "metadata": {},
   "outputs": [
    {
     "data": {
      "text/plain": [
       "GridSearchCV(cv=4, estimator=RandomForestRegressor(),\n",
       "             param_grid={'max_depth': [2, 4, 6, None],\n",
       "                         'n_estimators': [10, 30, 70, 100]},\n",
       "             return_train_score=True, scoring='neg_root_mean_squared_error')"
      ]
     },
     "execution_count": 77,
     "metadata": {},
     "output_type": "execute_result"
    }
   ],
   "source": [
    "from sklearn.ensemble import RandomForestRegressor\n",
    "params = {'n_estimators':[10,30,70,100],\n",
    "          'max_depth':[2,4,6,None]}\n",
    "model = GridSearchCV(RandomForestRegressor(),params,\n",
    "                    scoring='neg_root_mean_squared_error', cv=4,\n",
    "                    return_train_score=True)\n",
    "model.fit(x_train,y_train)"
   ]
  },
  {
   "cell_type": "code",
   "execution_count": 78,
   "metadata": {
    "scrolled": true
   },
   "outputs": [
    {
     "name": "stdout",
     "output_type": "stream",
     "text": [
      "The best combination of parameters are : {'max_depth': None, 'n_estimators': 30}\n"
     ]
    }
   ],
   "source": [
    "print('The best combination of parameters are :', model.best_params_)\n",
    "results = pd.DataFrame(model.cv_results_)"
   ]
  },
  {
   "cell_type": "code",
   "execution_count": 79,
   "metadata": {},
   "outputs": [
    {
     "data": {
      "text/plain": [
       "<matplotlib.axes._subplots.AxesSubplot at 0x279d5fc5eb8>"
      ]
     },
     "execution_count": 79,
     "metadata": {},
     "output_type": "execute_result"
    },
    {
     "data": {
      "image/png": "[encoded data removed]",
      "text/plain": [
       "<Figure size 432x288 with 1 Axes>"
      ]
     },
     "metadata": {
      "needs_background": "light"
     },
     "output_type": "display_data"
    }
   ],
   "source": [
    "results[['mean_train_score','mean_test_score']].plot()"
   ]
  },
  {
   "cell_type": "code",
   "execution_count": 111,
   "metadata": {},
   "outputs": [
    {
     "data": {
      "text/plain": [
       "RandomForestRegressor(n_estimators=30)"
      ]
     },
     "execution_count": 111,
     "metadata": {},
     "output_type": "execute_result"
    }
   ],
   "source": [
    "RF_model = RandomForestRegressor(n_estimators=30)\n",
    "RF_model.fit(x_train,y_train)"
   ]
  },
  {
   "cell_type": "code",
   "execution_count": 112,
   "metadata": {},
   "outputs": [
    {
     "name": "stdout",
     "output_type": "stream",
     "text": [
      "The RMSE on train data is:  0.714117855950547\n"
     ]
    }
   ],
   "source": [
    "y_pred = RF_model.predict(x_train)\n",
    "rmse_RF = mean_squared_error(y_train,y_pred)**0.5\n",
    "print('The RMSE on train data is: ', rmse_RF)"
   ]
  },
  {
   "cell_type": "code",
   "execution_count": 113,
   "metadata": {},
   "outputs": [
    {
     "name": "stdout",
     "output_type": "stream",
     "text": [
      "The RMSE on train data is:  2.1463060567127195\n"
     ]
    }
   ],
   "source": [
    "y_pred = RF_model.predict(x_cv)\n",
    "rmse_RF = mean_squared_error(y_cv,y_pred)**0.5\n",
    "print('The RMSE on train data is: ', rmse_RF)"
   ]
  },
  {
   "cell_type": "code",
   "execution_count": 80,
   "metadata": {},
   "outputs": [
    {
     "data": {
      "text/plain": [
       "RandomForestRegressor(n_estimators=30)"
      ]
     },
     "execution_count": 80,
     "metadata": {},
     "output_type": "execute_result"
    }
   ],
   "source": [
    "# Train a RF Regressor on best hyperparams using complete data and find the RMSE for train and test data.\n",
    "RF_model = RandomForestRegressor(n_estimators=30)\n",
    "RF_model.fit(X,Y)"
   ]
  },
  {
   "cell_type": "code",
   "execution_count": 82,
   "metadata": {},
   "outputs": [
    {
     "data": {
      "text/html": [
       "<div>\n",
       "<style scoped>\n",
       "    .dataframe tbody tr th:only-of-type {\n",
       "        vertical-align: middle;\n",
       "    }\n",
       "\n",
       "    .dataframe tbody tr th {\n",
       "        vertical-align: top;\n",
       "    }\n",
       "\n",
       "    .dataframe thead th {\n",
       "        text-align: right;\n",
       "    }\n",
       "</style>\n",
       "<table border=\"1\" class=\"dataframe\">\n",
       "  <thead>\n",
       "    <tr style=\"text-align: right;\">\n",
       "      <th></th>\n",
       "      <th>ID</th>\n",
       "      <th>vendor_id</th>\n",
       "      <th>pickup_loc</th>\n",
       "      <th>drop_loc</th>\n",
       "      <th>driver_tip</th>\n",
       "      <th>mta_tax</th>\n",
       "      <th>distance</th>\n",
       "      <th>pickup_time</th>\n",
       "      <th>drop_time</th>\n",
       "      <th>num_passengers</th>\n",
       "      <th>toll_amount</th>\n",
       "      <th>payment_method</th>\n",
       "      <th>rate_code</th>\n",
       "      <th>stored_flag</th>\n",
       "      <th>extra_charges</th>\n",
       "      <th>improvement_charge</th>\n",
       "    </tr>\n",
       "  </thead>\n",
       "  <tbody>\n",
       "    <tr>\n",
       "      <th>0</th>\n",
       "      <td>0</td>\n",
       "      <td>1</td>\n",
       "      <td>68.0</td>\n",
       "      <td>186.0</td>\n",
       "      <td>1.00</td>\n",
       "      <td>0.5</td>\n",
       "      <td>0.70</td>\n",
       "      <td>04/05/2017 05:49:46 AM</td>\n",
       "      <td>04/05/2017 05:54:03 AM</td>\n",
       "      <td>1.0</td>\n",
       "      <td>0.0</td>\n",
       "      <td>1.0</td>\n",
       "      <td>1.0</td>\n",
       "      <td>N</td>\n",
       "      <td>0.5</td>\n",
       "      <td>0.3</td>\n",
       "    </tr>\n",
       "    <tr>\n",
       "      <th>1</th>\n",
       "      <td>1</td>\n",
       "      <td>1</td>\n",
       "      <td>170.0</td>\n",
       "      <td>161.0</td>\n",
       "      <td>2.55</td>\n",
       "      <td>0.5</td>\n",
       "      <td>1.00</td>\n",
       "      <td>04/07/2017 08:57:27 AM</td>\n",
       "      <td>04/07/2017 09:16:00 AM</td>\n",
       "      <td>1.0</td>\n",
       "      <td>0.0</td>\n",
       "      <td>1.0</td>\n",
       "      <td>1.0</td>\n",
       "      <td>N</td>\n",
       "      <td>0.0</td>\n",
       "      <td>0.3</td>\n",
       "    </tr>\n",
       "    <tr>\n",
       "      <th>2</th>\n",
       "      <td>2</td>\n",
       "      <td>2</td>\n",
       "      <td>13.0</td>\n",
       "      <td>246.0</td>\n",
       "      <td>2.96</td>\n",
       "      <td>0.5</td>\n",
       "      <td>3.35</td>\n",
       "      <td>04/06/2017 08:06:41 AM</td>\n",
       "      <td>04/06/2017 08:21:33 AM</td>\n",
       "      <td>2.0</td>\n",
       "      <td>0.0</td>\n",
       "      <td>1.0</td>\n",
       "      <td>1.0</td>\n",
       "      <td>N</td>\n",
       "      <td>0.0</td>\n",
       "      <td>0.3</td>\n",
       "    </tr>\n",
       "    <tr>\n",
       "      <th>3</th>\n",
       "      <td>3</td>\n",
       "      <td>1</td>\n",
       "      <td>170.0</td>\n",
       "      <td>233.0</td>\n",
       "      <td>2.00</td>\n",
       "      <td>0.5</td>\n",
       "      <td>0.80</td>\n",
       "      <td>04/04/2017 08:31:34 AM</td>\n",
       "      <td>04/04/2017 08:37:21 AM</td>\n",
       "      <td>2.0</td>\n",
       "      <td>0.0</td>\n",
       "      <td>1.0</td>\n",
       "      <td>1.0</td>\n",
       "      <td>N</td>\n",
       "      <td>0.0</td>\n",
       "      <td>0.3</td>\n",
       "    </tr>\n",
       "    <tr>\n",
       "      <th>4</th>\n",
       "      <td>4</td>\n",
       "      <td>1</td>\n",
       "      <td>237.0</td>\n",
       "      <td>236.0</td>\n",
       "      <td>1.00</td>\n",
       "      <td>0.5</td>\n",
       "      <td>0.70</td>\n",
       "      <td>04/07/2017 10:54:06 AM</td>\n",
       "      <td>04/07/2017 11:00:59 AM</td>\n",
       "      <td>1.0</td>\n",
       "      <td>0.0</td>\n",
       "      <td>1.0</td>\n",
       "      <td>1.0</td>\n",
       "      <td>Y</td>\n",
       "      <td>0.0</td>\n",
       "      <td>0.3</td>\n",
       "    </tr>\n",
       "  </tbody>\n",
       "</table>\n",
       "</div>"
      ],
      "text/plain": [
       "   ID  vendor_id  pickup_loc  drop_loc  driver_tip  mta_tax  distance  \\\n",
       "0   0          1        68.0     186.0        1.00      0.5      0.70   \n",
       "1   1          1       170.0     161.0        2.55      0.5      1.00   \n",
       "2   2          2        13.0     246.0        2.96      0.5      3.35   \n",
       "3   3          1       170.0     233.0        2.00      0.5      0.80   \n",
       "4   4          1       237.0     236.0        1.00      0.5      0.70   \n",
       "\n",
       "              pickup_time               drop_time  num_passengers  \\\n",
       "0  04/05/2017 05:49:46 AM  04/05/2017 05:54:03 AM             1.0   \n",
       "1  04/07/2017 08:57:27 AM  04/07/2017 09:16:00 AM             1.0   \n",
       "2  04/06/2017 08:06:41 AM  04/06/2017 08:21:33 AM             2.0   \n",
       "3  04/04/2017 08:31:34 AM  04/04/2017 08:37:21 AM             2.0   \n",
       "4  04/07/2017 10:54:06 AM  04/07/2017 11:00:59 AM             1.0   \n",
       "\n",
       "   toll_amount  payment_method  rate_code stored_flag  extra_charges  \\\n",
       "0          0.0             1.0        1.0           N            0.5   \n",
       "1          0.0             1.0        1.0           N            0.0   \n",
       "2          0.0             1.0        1.0           N            0.0   \n",
       "3          0.0             1.0        1.0           N            0.0   \n",
       "4          0.0             1.0        1.0           Y            0.0   \n",
       "\n",
       "   improvement_charge  \n",
       "0                 0.3  \n",
       "1                 0.3  \n",
       "2                 0.3  \n",
       "3                 0.3  \n",
       "4                 0.3  "
      ]
     },
     "execution_count": 82,
     "metadata": {},
     "output_type": "execute_result"
    }
   ],
   "source": [
    "# Read Test data.\n",
    "test_data = pd.read_csv('test.csv')\n",
    "test_data.head()"
   ]
  },
  {
   "cell_type": "code",
   "execution_count": 83,
   "metadata": {},
   "outputs": [
    {
     "data": {
      "text/html": [
       "<div>\n",
       "<style scoped>\n",
       "    .dataframe tbody tr th:only-of-type {\n",
       "        vertical-align: middle;\n",
       "    }\n",
       "\n",
       "    .dataframe tbody tr th {\n",
       "        vertical-align: top;\n",
       "    }\n",
       "\n",
       "    .dataframe thead th {\n",
       "        text-align: right;\n",
       "    }\n",
       "</style>\n",
       "<table border=\"1\" class=\"dataframe\">\n",
       "  <thead>\n",
       "    <tr style=\"text-align: right;\">\n",
       "      <th></th>\n",
       "      <th>driver tip</th>\n",
       "      <th>mta tax</th>\n",
       "      <th>distance</th>\n",
       "      <th>num passengers</th>\n",
       "      <th>toll amount</th>\n",
       "      <th>payment method</th>\n",
       "      <th>rate code</th>\n",
       "      <th>extra charges</th>\n",
       "      <th>improvement charge</th>\n",
       "      <th>pickup hr</th>\n",
       "      <th>trip_duration</th>\n",
       "      <th>velocity</th>\n",
       "      <th>time_of_day</th>\n",
       "      <th>trip_length</th>\n",
       "    </tr>\n",
       "  </thead>\n",
       "  <tbody>\n",
       "    <tr>\n",
       "      <th>0</th>\n",
       "      <td>1.83</td>\n",
       "      <td>0.5</td>\n",
       "      <td>0.70</td>\n",
       "      <td>1.0</td>\n",
       "      <td>0.0</td>\n",
       "      <td>1.0</td>\n",
       "      <td>1.0</td>\n",
       "      <td>1.0</td>\n",
       "      <td>0.3</td>\n",
       "      <td>17</td>\n",
       "      <td>5.350000</td>\n",
       "      <td>0.130841</td>\n",
       "      <td>3</td>\n",
       "      <td>0</td>\n",
       "    </tr>\n",
       "    <tr>\n",
       "      <th>1</th>\n",
       "      <td>3.56</td>\n",
       "      <td>0.5</td>\n",
       "      <td>4.64</td>\n",
       "      <td>1.0</td>\n",
       "      <td>0.0</td>\n",
       "      <td>1.0</td>\n",
       "      <td>1.0</td>\n",
       "      <td>1.0</td>\n",
       "      <td>0.3</td>\n",
       "      <td>19</td>\n",
       "      <td>16.500000</td>\n",
       "      <td>0.281212</td>\n",
       "      <td>3</td>\n",
       "      <td>0</td>\n",
       "    </tr>\n",
       "    <tr>\n",
       "      <th>2</th>\n",
       "      <td>1.50</td>\n",
       "      <td>0.5</td>\n",
       "      <td>1.29</td>\n",
       "      <td>2.0</td>\n",
       "      <td>0.0</td>\n",
       "      <td>1.0</td>\n",
       "      <td>1.0</td>\n",
       "      <td>0.0</td>\n",
       "      <td>0.3</td>\n",
       "      <td>15</td>\n",
       "      <td>6.283333</td>\n",
       "      <td>0.205305</td>\n",
       "      <td>2</td>\n",
       "      <td>0</td>\n",
       "    </tr>\n",
       "    <tr>\n",
       "      <th>3</th>\n",
       "      <td>1.50</td>\n",
       "      <td>0.5</td>\n",
       "      <td>2.74</td>\n",
       "      <td>1.0</td>\n",
       "      <td>0.0</td>\n",
       "      <td>1.0</td>\n",
       "      <td>1.0</td>\n",
       "      <td>0.0</td>\n",
       "      <td>0.3</td>\n",
       "      <td>8</td>\n",
       "      <td>16.133333</td>\n",
       "      <td>0.169835</td>\n",
       "      <td>0</td>\n",
       "      <td>0</td>\n",
       "    </tr>\n",
       "    <tr>\n",
       "      <th>4</th>\n",
       "      <td>0.00</td>\n",
       "      <td>0.5</td>\n",
       "      <td>0.45</td>\n",
       "      <td>6.0</td>\n",
       "      <td>0.0</td>\n",
       "      <td>2.0</td>\n",
       "      <td>1.0</td>\n",
       "      <td>0.0</td>\n",
       "      <td>0.3</td>\n",
       "      <td>14</td>\n",
       "      <td>2.700000</td>\n",
       "      <td>0.166667</td>\n",
       "      <td>2</td>\n",
       "      <td>0</td>\n",
       "    </tr>\n",
       "  </tbody>\n",
       "</table>\n",
       "</div>"
      ],
      "text/plain": [
       "   driver tip  mta tax  distance  num passengers  toll amount  payment method  \\\n",
       "0        1.83      0.5      0.70             1.0          0.0             1.0   \n",
       "1        3.56      0.5      4.64             1.0          0.0             1.0   \n",
       "2        1.50      0.5      1.29             2.0          0.0             1.0   \n",
       "3        1.50      0.5      2.74             1.0          0.0             1.0   \n",
       "4        0.00      0.5      0.45             6.0          0.0             2.0   \n",
       "\n",
       "   rate code  extra charges  improvement charge  pickup hr  trip_duration  \\\n",
       "0        1.0            1.0                 0.3         17       5.350000   \n",
       "1        1.0            1.0                 0.3         19      16.500000   \n",
       "2        1.0            0.0                 0.3         15       6.283333   \n",
       "3        1.0            0.0                 0.3          8      16.133333   \n",
       "4        1.0            0.0                 0.3         14       2.700000   \n",
       "\n",
       "   velocity  time_of_day  trip_length  \n",
       "0  0.130841            3            0  \n",
       "1  0.281212            3            0  \n",
       "2  0.205305            2            0  \n",
       "3  0.169835            0            0  \n",
       "4  0.166667            2            0  "
      ]
     },
     "execution_count": 83,
     "metadata": {},
     "output_type": "execute_result"
    }
   ],
   "source": [
    "X.head()"
   ]
  },
  {
   "cell_type": "code",
   "execution_count": 84,
   "metadata": {},
   "outputs": [
    {
     "name": "stdout",
     "output_type": "stream",
     "text": [
      "<class 'pandas.core.frame.DataFrame'>\n",
      "RangeIndex: 154235 entries, 0 to 154234\n",
      "Data columns (total 16 columns):\n",
      " #   Column              Non-Null Count   Dtype  \n",
      "---  ------              --------------   -----  \n",
      " 0   ID                  154235 non-null  int64  \n",
      " 1   vendor_id           154235 non-null  int64  \n",
      " 2   pickup_loc          154235 non-null  float64\n",
      " 3   drop_loc            154235 non-null  float64\n",
      " 4   driver_tip          154235 non-null  float64\n",
      " 5   mta_tax             154235 non-null  float64\n",
      " 6   distance            154235 non-null  float64\n",
      " 7   pickup_time         154235 non-null  object \n",
      " 8   drop_time           154235 non-null  object \n",
      " 9   num_passengers      154235 non-null  float64\n",
      " 10  toll_amount         154235 non-null  float64\n",
      " 11  payment_method      154235 non-null  float64\n",
      " 12  rate_code           154235 non-null  float64\n",
      " 13  stored_flag         154235 non-null  object \n",
      " 14  extra_charges       154235 non-null  float64\n",
      " 15  improvement_charge  154235 non-null  float64\n",
      "dtypes: float64(11), int64(2), object(3)\n",
      "memory usage: 18.8+ MB\n"
     ]
    }
   ],
   "source": [
    "test_data.info()"
   ]
  },
  {
   "cell_type": "code",
   "execution_count": 85,
   "metadata": {},
   "outputs": [],
   "source": [
    "# Fill the 0 distance values with avg distance from train data.\n",
    "# Another apporach would be to store the pickup and drop locations and the corresponding distance between them in dict\n",
    "# and use that to fill in the missing distance values.\n",
    "avg_distance = clean_data.distance.mean()"
   ]
  },
  {
   "cell_type": "code",
   "execution_count": 86,
   "metadata": {},
   "outputs": [
    {
     "name": "stderr",
     "output_type": "stream",
     "text": [
      "C:\\Users\\admin\\Anaconda3\\lib\\site-packages\\pandas\\core\\indexing.py:670: SettingWithCopyWarning: \n",
      "A value is trying to be set on a copy of a slice from a DataFrame\n",
      "\n",
      "See the caveats in the documentation: https://pandas.pydata.org/pandas-docs/stable/user_guide/indexing.html#returning-a-view-versus-a-copy\n",
      "  iloc._setitem_with_indexer(indexer, value)\n"
     ]
    }
   ],
   "source": [
    "test_data['distance'].loc[test_data.distance==0] = avg_distance"
   ]
  },
  {
   "cell_type": "code",
   "execution_count": 87,
   "metadata": {},
   "outputs": [],
   "source": [
    "# Preprocess the test data.\n",
    "test_data.drop(['ID','vendor_id','stored_flag'],axis=1, inplace=True)\n",
    "test_data['pickup_time'] = pd.to_datetime(test_data['pickup_time'])\n",
    "test_data['drop_time'] = pd.to_datetime(test_data['drop_time'])\n",
    "test_data['pickup hr'] = test_data['pickup_time'].dt.hour\n",
    "test_data['trip_duration'] = test_data['drop_time'] - test_data['pickup_time']\n",
    "test_data['trip_duration'] = pd.to_numeric(test_data['trip_duration'])/10**9/60   # Trip duration in minutes.\n",
    "test_data['velocity'] = test_data['distance']/test_data['trip_duration']\n",
    "test_data['time_of_day'] = test_data['pickup hr'].apply(convert_hr_time)\n",
    "test_data['trip_length'] = test_data['distance'].apply(trip_length)"
   ]
  },
  {
   "cell_type": "code",
   "execution_count": 88,
   "metadata": {},
   "outputs": [
    {
     "name": "stdout",
     "output_type": "stream",
     "text": [
      "<class 'pandas.core.frame.DataFrame'>\n",
      "RangeIndex: 154235 entries, 0 to 154234\n",
      "Data columns (total 18 columns):\n",
      " #   Column              Non-Null Count   Dtype         \n",
      "---  ------              --------------   -----         \n",
      " 0   pickup_loc          154235 non-null  float64       \n",
      " 1   drop_loc            154235 non-null  float64       \n",
      " 2   driver_tip          154235 non-null  float64       \n",
      " 3   mta_tax             154235 non-null  float64       \n",
      " 4   distance            154235 non-null  float64       \n",
      " 5   pickup_time         154235 non-null  datetime64[ns]\n",
      " 6   drop_time           154235 non-null  datetime64[ns]\n",
      " 7   num_passengers      154235 non-null  float64       \n",
      " 8   toll_amount         154235 non-null  float64       \n",
      " 9   payment_method      154235 non-null  float64       \n",
      " 10  rate_code           154235 non-null  float64       \n",
      " 11  extra_charges       154235 non-null  float64       \n",
      " 12  improvement_charge  154235 non-null  float64       \n",
      " 13  pickup hr           154235 non-null  int64         \n",
      " 14  trip_duration       154235 non-null  float64       \n",
      " 15  velocity            154235 non-null  float64       \n",
      " 16  time_of_day         154235 non-null  int64         \n",
      " 17  trip_length         154235 non-null  int64         \n",
      "dtypes: datetime64[ns](2), float64(13), int64(3)\n",
      "memory usage: 21.2 MB\n"
     ]
    }
   ],
   "source": [
    "test_data.info()"
   ]
  },
  {
   "cell_type": "code",
   "execution_count": 89,
   "metadata": {},
   "outputs": [
    {
     "data": {
      "text/html": [
       "<div>\n",
       "<style scoped>\n",
       "    .dataframe tbody tr th:only-of-type {\n",
       "        vertical-align: middle;\n",
       "    }\n",
       "\n",
       "    .dataframe tbody tr th {\n",
       "        vertical-align: top;\n",
       "    }\n",
       "\n",
       "    .dataframe thead th {\n",
       "        text-align: right;\n",
       "    }\n",
       "</style>\n",
       "<table border=\"1\" class=\"dataframe\">\n",
       "  <thead>\n",
       "    <tr style=\"text-align: right;\">\n",
       "      <th></th>\n",
       "      <th>pickup_loc</th>\n",
       "      <th>drop_loc</th>\n",
       "      <th>driver_tip</th>\n",
       "      <th>mta_tax</th>\n",
       "      <th>distance</th>\n",
       "      <th>pickup_time</th>\n",
       "      <th>drop_time</th>\n",
       "      <th>num_passengers</th>\n",
       "      <th>toll_amount</th>\n",
       "      <th>payment_method</th>\n",
       "      <th>rate_code</th>\n",
       "      <th>extra_charges</th>\n",
       "      <th>improvement_charge</th>\n",
       "      <th>pickup hr</th>\n",
       "      <th>trip_duration</th>\n",
       "      <th>velocity</th>\n",
       "      <th>time_of_day</th>\n",
       "      <th>trip_length</th>\n",
       "    </tr>\n",
       "  </thead>\n",
       "  <tbody>\n",
       "    <tr>\n",
       "      <th>0</th>\n",
       "      <td>68.0</td>\n",
       "      <td>186.0</td>\n",
       "      <td>1.00</td>\n",
       "      <td>0.5</td>\n",
       "      <td>0.70</td>\n",
       "      <td>2017-04-05 05:49:46</td>\n",
       "      <td>2017-04-05 05:54:03</td>\n",
       "      <td>1.0</td>\n",
       "      <td>0.0</td>\n",
       "      <td>1.0</td>\n",
       "      <td>1.0</td>\n",
       "      <td>0.5</td>\n",
       "      <td>0.3</td>\n",
       "      <td>5</td>\n",
       "      <td>4.283333</td>\n",
       "      <td>0.163424</td>\n",
       "      <td>0</td>\n",
       "      <td>0</td>\n",
       "    </tr>\n",
       "    <tr>\n",
       "      <th>1</th>\n",
       "      <td>170.0</td>\n",
       "      <td>161.0</td>\n",
       "      <td>2.55</td>\n",
       "      <td>0.5</td>\n",
       "      <td>1.00</td>\n",
       "      <td>2017-04-07 08:57:27</td>\n",
       "      <td>2017-04-07 09:16:00</td>\n",
       "      <td>1.0</td>\n",
       "      <td>0.0</td>\n",
       "      <td>1.0</td>\n",
       "      <td>1.0</td>\n",
       "      <td>0.0</td>\n",
       "      <td>0.3</td>\n",
       "      <td>8</td>\n",
       "      <td>18.550000</td>\n",
       "      <td>0.053908</td>\n",
       "      <td>0</td>\n",
       "      <td>0</td>\n",
       "    </tr>\n",
       "    <tr>\n",
       "      <th>2</th>\n",
       "      <td>13.0</td>\n",
       "      <td>246.0</td>\n",
       "      <td>2.96</td>\n",
       "      <td>0.5</td>\n",
       "      <td>3.35</td>\n",
       "      <td>2017-04-06 08:06:41</td>\n",
       "      <td>2017-04-06 08:21:33</td>\n",
       "      <td>2.0</td>\n",
       "      <td>0.0</td>\n",
       "      <td>1.0</td>\n",
       "      <td>1.0</td>\n",
       "      <td>0.0</td>\n",
       "      <td>0.3</td>\n",
       "      <td>8</td>\n",
       "      <td>14.866667</td>\n",
       "      <td>0.225336</td>\n",
       "      <td>0</td>\n",
       "      <td>0</td>\n",
       "    </tr>\n",
       "    <tr>\n",
       "      <th>3</th>\n",
       "      <td>170.0</td>\n",
       "      <td>233.0</td>\n",
       "      <td>2.00</td>\n",
       "      <td>0.5</td>\n",
       "      <td>0.80</td>\n",
       "      <td>2017-04-04 08:31:34</td>\n",
       "      <td>2017-04-04 08:37:21</td>\n",
       "      <td>2.0</td>\n",
       "      <td>0.0</td>\n",
       "      <td>1.0</td>\n",
       "      <td>1.0</td>\n",
       "      <td>0.0</td>\n",
       "      <td>0.3</td>\n",
       "      <td>8</td>\n",
       "      <td>5.783333</td>\n",
       "      <td>0.138329</td>\n",
       "      <td>0</td>\n",
       "      <td>0</td>\n",
       "    </tr>\n",
       "    <tr>\n",
       "      <th>4</th>\n",
       "      <td>237.0</td>\n",
       "      <td>236.0</td>\n",
       "      <td>1.00</td>\n",
       "      <td>0.5</td>\n",
       "      <td>0.70</td>\n",
       "      <td>2017-04-07 10:54:06</td>\n",
       "      <td>2017-04-07 11:00:59</td>\n",
       "      <td>1.0</td>\n",
       "      <td>0.0</td>\n",
       "      <td>1.0</td>\n",
       "      <td>1.0</td>\n",
       "      <td>0.0</td>\n",
       "      <td>0.3</td>\n",
       "      <td>10</td>\n",
       "      <td>6.883333</td>\n",
       "      <td>0.101695</td>\n",
       "      <td>1</td>\n",
       "      <td>0</td>\n",
       "    </tr>\n",
       "  </tbody>\n",
       "</table>\n",
       "</div>"
      ],
      "text/plain": [
       "   pickup_loc  drop_loc  driver_tip  mta_tax  distance         pickup_time  \\\n",
       "0        68.0     186.0        1.00      0.5      0.70 2017-04-05 05:49:46   \n",
       "1       170.0     161.0        2.55      0.5      1.00 2017-04-07 08:57:27   \n",
       "2        13.0     246.0        2.96      0.5      3.35 2017-04-06 08:06:41   \n",
       "3       170.0     233.0        2.00      0.5      0.80 2017-04-04 08:31:34   \n",
       "4       237.0     236.0        1.00      0.5      0.70 2017-04-07 10:54:06   \n",
       "\n",
       "            drop_time  num_passengers  toll_amount  payment_method  rate_code  \\\n",
       "0 2017-04-05 05:54:03             1.0          0.0             1.0        1.0   \n",
       "1 2017-04-07 09:16:00             1.0          0.0             1.0        1.0   \n",
       "2 2017-04-06 08:21:33             2.0          0.0             1.0        1.0   \n",
       "3 2017-04-04 08:37:21             2.0          0.0             1.0        1.0   \n",
       "4 2017-04-07 11:00:59             1.0          0.0             1.0        1.0   \n",
       "\n",
       "   extra_charges  improvement_charge  pickup hr  trip_duration  velocity  \\\n",
       "0            0.5                 0.3          5       4.283333  0.163424   \n",
       "1            0.0                 0.3          8      18.550000  0.053908   \n",
       "2            0.0                 0.3          8      14.866667  0.225336   \n",
       "3            0.0                 0.3          8       5.783333  0.138329   \n",
       "4            0.0                 0.3         10       6.883333  0.101695   \n",
       "\n",
       "   time_of_day  trip_length  \n",
       "0            0            0  \n",
       "1            0            0  \n",
       "2            0            0  \n",
       "3            0            0  \n",
       "4            1            0  "
      ]
     },
     "execution_count": 89,
     "metadata": {},
     "output_type": "execute_result"
    }
   ],
   "source": [
    "test_data.head()"
   ]
  },
  {
   "cell_type": "code",
   "execution_count": 90,
   "metadata": {},
   "outputs": [],
   "source": [
    "test_data.drop(['pickup_loc','drop_loc','pickup_time','drop_time'], axis=1, inplace=True)"
   ]
  },
  {
   "cell_type": "code",
   "execution_count": 91,
   "metadata": {},
   "outputs": [
    {
     "name": "stdout",
     "output_type": "stream",
     "text": [
      "<class 'pandas.core.frame.DataFrame'>\n",
      "RangeIndex: 154235 entries, 0 to 154234\n",
      "Data columns (total 14 columns):\n",
      " #   Column              Non-Null Count   Dtype  \n",
      "---  ------              --------------   -----  \n",
      " 0   driver_tip          154235 non-null  float64\n",
      " 1   mta_tax             154235 non-null  float64\n",
      " 2   distance            154235 non-null  float64\n",
      " 3   num_passengers      154235 non-null  float64\n",
      " 4   toll_amount         154235 non-null  float64\n",
      " 5   payment_method      154235 non-null  float64\n",
      " 6   rate_code           154235 non-null  float64\n",
      " 7   extra_charges       154235 non-null  float64\n",
      " 8   improvement_charge  154235 non-null  float64\n",
      " 9   pickup hr           154235 non-null  int64  \n",
      " 10  trip_duration       154235 non-null  float64\n",
      " 11  velocity            154235 non-null  float64\n",
      " 12  time_of_day         154235 non-null  int64  \n",
      " 13  trip_length         154235 non-null  int64  \n",
      "dtypes: float64(11), int64(3)\n",
      "memory usage: 16.5 MB\n"
     ]
    }
   ],
   "source": [
    "test_data.info()"
   ]
  },
  {
   "cell_type": "code",
   "execution_count": 92,
   "metadata": {},
   "outputs": [
    {
     "name": "stderr",
     "output_type": "stream",
     "text": [
      "C:\\Users\\admin\\Anaconda3\\lib\\site-packages\\pandas\\core\\indexing.py:670: SettingWithCopyWarning: \n",
      "A value is trying to be set on a copy of a slice from a DataFrame\n",
      "\n",
      "See the caveats in the documentation: https://pandas.pydata.org/pandas-docs/stable/user_guide/indexing.html#returning-a-view-versus-a-copy\n",
      "  iloc._setitem_with_indexer(indexer, value)\n",
      "C:\\Users\\admin\\Anaconda3\\lib\\site-packages\\pandas\\core\\indexing.py:670: SettingWithCopyWarning: \n",
      "A value is trying to be set on a copy of a slice from a DataFrame\n",
      "\n",
      "See the caveats in the documentation: https://pandas.pydata.org/pandas-docs/stable/user_guide/indexing.html#returning-a-view-versus-a-copy\n",
      "  iloc._setitem_with_indexer(indexer, value)\n"
     ]
    }
   ],
   "source": [
    "test_data['velocity'].loc[test_data.velocity==np.inf] = avg_velocity\n",
    "test_data['trip_duration'].loc[test_data.trip_duration==0] = test_data['velocity'].loc[test_data.trip_duration==0]/test_data['distance'].loc[test_data.trip_duration==0]\n"
   ]
  },
  {
   "cell_type": "code",
   "execution_count": 93,
   "metadata": {},
   "outputs": [
    {
     "name": "stdout",
     "output_type": "stream",
     "text": [
      "<class 'pandas.core.frame.DataFrame'>\n",
      "RangeIndex: 154235 entries, 0 to 154234\n",
      "Data columns (total 14 columns):\n",
      " #   Column              Non-Null Count   Dtype  \n",
      "---  ------              --------------   -----  \n",
      " 0   driver_tip          154235 non-null  float64\n",
      " 1   mta_tax             154235 non-null  float64\n",
      " 2   distance            154235 non-null  float64\n",
      " 3   num_passengers      154235 non-null  float64\n",
      " 4   toll_amount         154235 non-null  float64\n",
      " 5   payment_method      154235 non-null  float64\n",
      " 6   rate_code           154235 non-null  float64\n",
      " 7   extra_charges       154235 non-null  float64\n",
      " 8   improvement_charge  154235 non-null  float64\n",
      " 9   pickup hr           154235 non-null  int64  \n",
      " 10  trip_duration       154235 non-null  float64\n",
      " 11  velocity            154235 non-null  float64\n",
      " 12  time_of_day         154235 non-null  int64  \n",
      " 13  trip_length         154235 non-null  int64  \n",
      "dtypes: float64(11), int64(3)\n",
      "memory usage: 16.5 MB\n"
     ]
    }
   ],
   "source": [
    "test_data.info()"
   ]
  },
  {
   "cell_type": "code",
   "execution_count": 94,
   "metadata": {},
   "outputs": [],
   "source": [
    "# Prediction on test data using Random Forest Model.\n",
    "y_pred_test = RF_model.predict(test_data)"
   ]
  },
  {
   "cell_type": "code",
   "execution_count": 103,
   "metadata": {},
   "outputs": [
    {
     "data": {
      "text/plain": [
       "Index(['driver_tip', 'mta_tax', 'distance', 'num_passengers', 'toll_amount',\n",
       "       'payment_method', 'rate_code', 'extra_charges', 'improvement_charge',\n",
       "       'pickup hr', 'trip_duration', 'velocity', 'time_of_day', 'trip_length'],\n",
       "      dtype='object')"
      ]
     },
     "execution_count": 103,
     "metadata": {},
     "output_type": "execute_result"
    }
   ],
   "source": [
    "test_data.columns"
   ]
  },
  {
   "cell_type": "code",
   "execution_count": 104,
   "metadata": {},
   "outputs": [
    {
     "data": {
      "text/plain": [
       "Index(['driver tip', 'mta tax', 'distance', 'num passengers', 'toll amount',\n",
       "       'payment method', 'rate code', 'extra charges', 'improvement charge',\n",
       "       'pickup hr', 'trip_duration', 'velocity', 'time_of_day', 'trip_length'],\n",
       "      dtype='object')"
      ]
     },
     "execution_count": 104,
     "metadata": {},
     "output_type": "execute_result"
    }
   ],
   "source": [
    "X.columns"
   ]
  },
  {
   "cell_type": "markdown",
   "metadata": {},
   "source": [
    "### XGBoost "
   ]
  },
  {
   "cell_type": "code",
   "execution_count": 95,
   "metadata": {},
   "outputs": [
    {
     "data": {
      "text/plain": [
       "GridSearchCV(cv=4,\n",
       "             estimator=XGBRegressor(base_score=None, booster=None,\n",
       "                                    colsample_bylevel=None,\n",
       "                                    colsample_bynode=None, colsample_bytree=0.8,\n",
       "                                    eval_metric='rmse', gamma=None, gpu_id=None,\n",
       "                                    importance_type='gain',\n",
       "                                    interaction_constraints=None,\n",
       "                                    learning_rate=None, max_delta_step=None,\n",
       "                                    max_depth=None, min_child_weight=None,\n",
       "                                    missing=nan, monotone_constraints=None,\n",
       "                                    n_esti...\n",
       "                                    num_parallel_tree=None, random_state=None,\n",
       "                                    reg_alpha=None, reg_lambda=None,\n",
       "                                    scale_pos_weight=None, subsample=0.6,\n",
       "                                    tree_method=None, validate_parameters=None,\n",
       "                                    verbosity=None),\n",
       "             n_jobs=-1,\n",
       "             param_grid={'learning_rate': [0.001, 0.003, 0.01, 0.03, 0.1, 0.3],\n",
       "                         'n_estimators': [10, 30, 70, 100],\n",
       "                         'reg_lambda': [0.1, 0.3, 1, 3, 10]},\n",
       "             return_train_score=True, scoring='neg_root_mean_squared_error')"
      ]
     },
     "execution_count": 95,
     "metadata": {},
     "output_type": "execute_result"
    }
   ],
   "source": [
    "from xgboost import XGBRegressor\n",
    "params = {'n_estimators':[10,30,70,100],\n",
    "         'learning_rate':[0.001,0.003,0.01,0.03,0.1,0.3],\n",
    "         'reg_lambda':[0.1,0.3,1,3,10]}\n",
    "\n",
    "xgb_model = XGBRegressor(subsample=0.6,\n",
    "                        colsample_bytree=0.8,\n",
    "                        objective='reg:squarederror',\n",
    "                        eval_metric = 'rmse')\n",
    "model = GridSearchCV(xgb_model,params,cv=4,\n",
    "                    scoring='neg_root_mean_squared_error',\n",
    "                    return_train_score=True,\n",
    "                    n_jobs=-1)\n",
    "model.fit(x_train,y_train)"
   ]
  },
  {
   "cell_type": "code",
   "execution_count": 96,
   "metadata": {},
   "outputs": [
    {
     "data": {
      "text/plain": [
       "<matplotlib.axes._subplots.AxesSubplot at 0x27a2b514e80>"
      ]
     },
     "execution_count": 96,
     "metadata": {},
     "output_type": "execute_result"
    },
    {
     "data": {
      "image/png": "[encoded data removed]",
      "text/plain": [
       "<Figure size 432x288 with 1 Axes>"
      ]
     },
     "metadata": {
      "needs_background": "light"
     },
     "output_type": "display_data"
    }
   ],
   "source": [
    "results = pd.DataFrame(model.cv_results_)\n",
    "results[['mean_train_score','mean_test_score']].plot()"
   ]
  },
  {
   "cell_type": "code",
   "execution_count": 97,
   "metadata": {},
   "outputs": [
    {
     "data": {
      "text/plain": [
       "{'learning_rate': 0.1, 'n_estimators': 100, 'reg_lambda': 0.1}"
      ]
     },
     "execution_count": 97,
     "metadata": {},
     "output_type": "execute_result"
    }
   ],
   "source": [
    "model.best_params_"
   ]
  },
  {
   "cell_type": "code",
   "execution_count": 107,
   "metadata": {},
   "outputs": [
    {
     "data": {
      "text/plain": [
       "XGBRegressor(base_score=0.5, booster='gbtree', colsample_bylevel=1,\n",
       "             colsample_bynode=1, colsample_bytree=0.8, eval_metric='rmse',\n",
       "             gamma=0, gpu_id=-1, importance_type='gain',\n",
       "             interaction_constraints='', learning_rate=0.1, max_delta_step=0,\n",
       "             max_depth=6, min_child_weight=1, missing=nan,\n",
       "             monotone_constraints='()', n_estimators=100, n_jobs=6,\n",
       "             num_parallel_tree=1, random_state=0, reg_alpha=0, reg_lambda=0.1,\n",
       "             scale_pos_weight=1, subsample=0.6, tree_method='exact',\n",
       "             validate_parameters=1, verbosity=None)"
      ]
     },
     "execution_count": 107,
     "metadata": {},
     "output_type": "execute_result"
    }
   ],
   "source": [
    "xgb_model = XGBRegressor(subsample=0.6,\n",
    "                        colsample_bytree=0.8,\n",
    "                        objective='reg:squarederror',\n",
    "                        eval_metric = 'rmse',\n",
    "                        learning_rate=0.1,\n",
    "                        n_estimators=100,\n",
    "                        reg_lambda=0.1)\n",
    "xgb_model.fit(x_train,y_train)"
   ]
  },
  {
   "cell_type": "code",
   "execution_count": 108,
   "metadata": {},
   "outputs": [
    {
     "name": "stdout",
     "output_type": "stream",
     "text": [
      "RMSE using XGBoost Regressor on train data is:  1.1999729424712007\n"
     ]
    }
   ],
   "source": [
    "y_pred = xgb_model.predict(x_train)\n",
    "xgb_rmse = mean_squared_error(y_train,y_pred)**0.5\n",
    "print('RMSE using XGBoost Regressor on train data is: ', xgb_rmse)"
   ]
  },
  {
   "cell_type": "code",
   "execution_count": 110,
   "metadata": {
    "scrolled": true
   },
   "outputs": [
    {
     "name": "stdout",
     "output_type": "stream",
     "text": [
      "RMSE using XGBoost Regressor on test data is:  1.745635971270988\n"
     ]
    }
   ],
   "source": [
    "y_pred = xgb_model.predict(x_cv)\n",
    "xgb_rmse = mean_squared_error(y_cv,y_pred)**0.5\n",
    "print('RMSE using XGBoost Regressor on test data is: ', xgb_rmse)"
   ]
  },
  {
   "cell_type": "code",
   "execution_count": 105,
   "metadata": {},
   "outputs": [],
   "source": [
    "test_data.columns = ['driver tip', 'mta tax', 'distance', 'num passengers', 'toll amount',\n",
    "       'payment method', 'rate code', 'extra charges', 'improvement charge',\n",
    "       'pickup hr', 'trip_duration', 'velocity', 'time_of_day', 'trip_length']"
   ]
  },
  {
   "cell_type": "code",
   "execution_count": 106,
   "metadata": {},
   "outputs": [],
   "source": [
    "y_pred_test_xgb = xgb_model.predict(test_data)"
   ]
  },
  {
   "cell_type": "code",
   "execution_count": 114,
   "metadata": {},
   "outputs": [],
   "source": [
    "submit_df = pd.read_csv('test.csv')"
   ]
  },
  {
   "cell_type": "code",
   "execution_count": 115,
   "metadata": {},
   "outputs": [],
   "source": [
    "# Save files for submission\n",
    "submit_df['total_amount'] = y_pred_test"
   ]
  },
  {
   "cell_type": "code",
   "execution_count": 116,
   "metadata": {},
   "outputs": [
    {
     "data": {
      "text/plain": [
       "Index(['ID', 'vendor_id', 'pickup_loc', 'drop_loc', 'driver_tip', 'mta_tax',\n",
       "       'distance', 'pickup_time', 'drop_time', 'num_passengers', 'toll_amount',\n",
       "       'payment_method', 'rate_code', 'stored_flag', 'extra_charges',\n",
       "       'improvement_charge', 'total_amount'],\n",
       "      dtype='object')"
      ]
     },
     "execution_count": 116,
     "metadata": {},
     "output_type": "execute_result"
    }
   ],
   "source": [
    "submit_df.columns"
   ]
  },
  {
   "cell_type": "code",
   "execution_count": 117,
   "metadata": {},
   "outputs": [],
   "source": [
    "submit_df.drop(['vendor_id', 'pickup_loc', 'drop_loc', 'driver_tip', 'mta_tax',\n",
    "       'distance', 'pickup_time', 'drop_time', 'num_passengers', 'toll_amount',\n",
    "       'payment_method', 'rate_code', 'stored_flag', 'extra_charges',\n",
    "       'improvement_charge'],axis=1,inplace=True)"
   ]
  },
  {
   "cell_type": "code",
   "execution_count": 121,
   "metadata": {},
   "outputs": [],
   "source": [
    "submit_df.set_index('ID', inplace=True)"
   ]
  },
  {
   "cell_type": "code",
   "execution_count": 123,
   "metadata": {},
   "outputs": [],
   "source": [
    "submit_df.to_csv('rf_submit.csv')"
   ]
  },
  {
   "cell_type": "code",
   "execution_count": 124,
   "metadata": {},
   "outputs": [],
   "source": [
    "submit_df['total_amount'] = y_pred_test_xgb"
   ]
  },
  {
   "cell_type": "code",
   "execution_count": 126,
   "metadata": {},
   "outputs": [],
   "source": [
    "submit_df.to_csv('xgb_submit.csv')"
   ]
  },
  {
   "cell_type": "code",
   "execution_count": null,
   "metadata": {},
   "outputs": [],
   "source": []
  }
 ],
 "metadata": {
  "kernelspec": {
   "display_name": "Python 3",
   "language": "python",
   "name": "python3"
  },
  "language_info": {
   "codemirror_mode": {
    "name": "ipython",
    "version": 3
   },
   "file_extension": ".py",
   "mimetype": "text/x-python",
   "name": "python",
   "nbconvert_exporter": "python",
   "pygments_lexer": "ipython3",
   "version": "3.7.3"
  }
 },
 "nbformat": 4,
 "nbformat_minor": 4
}
